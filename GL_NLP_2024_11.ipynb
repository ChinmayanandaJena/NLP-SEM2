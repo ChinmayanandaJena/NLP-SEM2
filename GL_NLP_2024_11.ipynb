{
  "nbformat": 4,
  "nbformat_minor": 0,
  "metadata": {
    "colab": {
      "provenance": []
    },
    "kernelspec": {
      "name": "python3",
      "display_name": "Python 3"
    },
    "language_info": {
      "name": "python"
    }
  },
  "cells": [
    {
      "cell_type": "code",
      "execution_count": 1,
      "metadata": {
        "id": "VmE2lkzP8Ccb"
      },
      "outputs": [],
      "source": [
        "import pandas as pd"
      ]
    },
    {
      "cell_type": "code",
      "source": [
        "# datasets repo: https://github.com/skathirmani/datasets"
      ],
      "metadata": {
        "id": "hyw1RDl6_TX4"
      },
      "execution_count": 2,
      "outputs": []
    },
    {
      "cell_type": "code",
      "source": [
        "tweets_url = \"https://raw.githubusercontent.com/skathirmani/datasets/refs/heads/main/narendramodi_tweets.csv\""
      ],
      "metadata": {
        "id": "3E6gzZ3l_TfO"
      },
      "execution_count": 3,
      "outputs": []
    },
    {
      "cell_type": "code",
      "source": [
        "tweets = pd.read_csv(tweets_url)\n",
        "tweets.shape\n"
      ],
      "metadata": {
        "colab": {
          "base_uri": "https://localhost:8080/"
        },
        "id": "TcO9zxOs_TiI",
        "outputId": "712341c3-6919-4f58-8fc0-bc382bf82f99"
      },
      "execution_count": 4,
      "outputs": [
        {
          "output_type": "execute_result",
          "data": {
            "text/plain": [
              "(3220, 14)"
            ]
          },
          "metadata": {},
          "execution_count": 4
        }
      ]
    },
    {
      "cell_type": "code",
      "source": [
        "tweets.head()"
      ],
      "metadata": {
        "colab": {
          "base_uri": "https://localhost:8080/",
          "height": 590
        },
        "id": "gbO2PstlD0W4",
        "outputId": "e6eb997c-14ff-454c-b1a3-409ab4036487"
      },
      "execution_count": 5,
      "outputs": [
        {
          "output_type": "execute_result",
          "data": {
            "text/plain": [
              "             id  retweets_count  favorite_count           created_at  \\\n",
              "0  8.263846e+17          1406.0          4903.0  2017-01-31 11:00:07   \n",
              "1  8.263843e+17           907.0          2877.0  2017-01-31 10:59:12   \n",
              "2  8.263827e+17           694.0             0.0  2017-01-31 10:52:33   \n",
              "3  8.263826e+17           666.0             0.0  2017-01-31 10:52:22   \n",
              "4  8.263826e+17           716.0             0.0  2017-01-31 10:52:16   \n",
              "\n",
              "                                                text lang  retweeted  \\\n",
              "0  The President's address wonderfully encapsulat...   en      False   \n",
              "1  Rashtrapati Ji's address to both Houses of Par...   en      False   \n",
              "2  RT @PMOIndia: Empowering the marginalised. htt...   en      False   \n",
              "3  RT @PMOIndia: Commitment to welfare of farmers...   en      False   \n",
              "4  RT @PMOIndia: Improving the quality of life fo...   en      False   \n",
              "\n",
              "   followers_count  friends_count  hashtags_count              description  \\\n",
              "0       26809964.0         1641.0             1.0  Prime Minister of India   \n",
              "1       26809964.0         1641.0             0.0  Prime Minister of India   \n",
              "2       26809964.0         1641.0             0.0  Prime Minister of India   \n",
              "3       26809964.0         1641.0             0.0  Prime Minister of India   \n",
              "4       26809964.0         1641.0             0.0  Prime Minister of India   \n",
              "\n",
              "  location                               background_image_url  \\\n",
              "0    India  http://pbs.twimg.com/profile_background_images...   \n",
              "1    India  http://pbs.twimg.com/profile_background_images...   \n",
              "2    India  http://pbs.twimg.com/profile_background_images...   \n",
              "3    India  http://pbs.twimg.com/profile_background_images...   \n",
              "4    India  http://pbs.twimg.com/profile_background_images...   \n",
              "\n",
              "               source  \n",
              "0  Twitter Web Client  \n",
              "1  Twitter Web Client  \n",
              "2  Twitter Web Client  \n",
              "3  Twitter Web Client  \n",
              "4  Twitter Web Client  "
            ],
            "text/html": [
              "\n",
              "  <div id=\"df-cde88d46-db30-4bd4-920b-ab7c33f6f521\" class=\"colab-df-container\">\n",
              "    <div>\n",
              "<style scoped>\n",
              "    .dataframe tbody tr th:only-of-type {\n",
              "        vertical-align: middle;\n",
              "    }\n",
              "\n",
              "    .dataframe tbody tr th {\n",
              "        vertical-align: top;\n",
              "    }\n",
              "\n",
              "    .dataframe thead th {\n",
              "        text-align: right;\n",
              "    }\n",
              "</style>\n",
              "<table border=\"1\" class=\"dataframe\">\n",
              "  <thead>\n",
              "    <tr style=\"text-align: right;\">\n",
              "      <th></th>\n",
              "      <th>id</th>\n",
              "      <th>retweets_count</th>\n",
              "      <th>favorite_count</th>\n",
              "      <th>created_at</th>\n",
              "      <th>text</th>\n",
              "      <th>lang</th>\n",
              "      <th>retweeted</th>\n",
              "      <th>followers_count</th>\n",
              "      <th>friends_count</th>\n",
              "      <th>hashtags_count</th>\n",
              "      <th>description</th>\n",
              "      <th>location</th>\n",
              "      <th>background_image_url</th>\n",
              "      <th>source</th>\n",
              "    </tr>\n",
              "  </thead>\n",
              "  <tbody>\n",
              "    <tr>\n",
              "      <th>0</th>\n",
              "      <td>8.263846e+17</td>\n",
              "      <td>1406.0</td>\n",
              "      <td>4903.0</td>\n",
              "      <td>2017-01-31 11:00:07</td>\n",
              "      <td>The President's address wonderfully encapsulat...</td>\n",
              "      <td>en</td>\n",
              "      <td>False</td>\n",
              "      <td>26809964.0</td>\n",
              "      <td>1641.0</td>\n",
              "      <td>1.0</td>\n",
              "      <td>Prime Minister of India</td>\n",
              "      <td>India</td>\n",
              "      <td>http://pbs.twimg.com/profile_background_images...</td>\n",
              "      <td>Twitter Web Client</td>\n",
              "    </tr>\n",
              "    <tr>\n",
              "      <th>1</th>\n",
              "      <td>8.263843e+17</td>\n",
              "      <td>907.0</td>\n",
              "      <td>2877.0</td>\n",
              "      <td>2017-01-31 10:59:12</td>\n",
              "      <td>Rashtrapati Ji's address to both Houses of Par...</td>\n",
              "      <td>en</td>\n",
              "      <td>False</td>\n",
              "      <td>26809964.0</td>\n",
              "      <td>1641.0</td>\n",
              "      <td>0.0</td>\n",
              "      <td>Prime Minister of India</td>\n",
              "      <td>India</td>\n",
              "      <td>http://pbs.twimg.com/profile_background_images...</td>\n",
              "      <td>Twitter Web Client</td>\n",
              "    </tr>\n",
              "    <tr>\n",
              "      <th>2</th>\n",
              "      <td>8.263827e+17</td>\n",
              "      <td>694.0</td>\n",
              "      <td>0.0</td>\n",
              "      <td>2017-01-31 10:52:33</td>\n",
              "      <td>RT @PMOIndia: Empowering the marginalised. htt...</td>\n",
              "      <td>en</td>\n",
              "      <td>False</td>\n",
              "      <td>26809964.0</td>\n",
              "      <td>1641.0</td>\n",
              "      <td>0.0</td>\n",
              "      <td>Prime Minister of India</td>\n",
              "      <td>India</td>\n",
              "      <td>http://pbs.twimg.com/profile_background_images...</td>\n",
              "      <td>Twitter Web Client</td>\n",
              "    </tr>\n",
              "    <tr>\n",
              "      <th>3</th>\n",
              "      <td>8.263826e+17</td>\n",
              "      <td>666.0</td>\n",
              "      <td>0.0</td>\n",
              "      <td>2017-01-31 10:52:22</td>\n",
              "      <td>RT @PMOIndia: Commitment to welfare of farmers...</td>\n",
              "      <td>en</td>\n",
              "      <td>False</td>\n",
              "      <td>26809964.0</td>\n",
              "      <td>1641.0</td>\n",
              "      <td>0.0</td>\n",
              "      <td>Prime Minister of India</td>\n",
              "      <td>India</td>\n",
              "      <td>http://pbs.twimg.com/profile_background_images...</td>\n",
              "      <td>Twitter Web Client</td>\n",
              "    </tr>\n",
              "    <tr>\n",
              "      <th>4</th>\n",
              "      <td>8.263826e+17</td>\n",
              "      <td>716.0</td>\n",
              "      <td>0.0</td>\n",
              "      <td>2017-01-31 10:52:16</td>\n",
              "      <td>RT @PMOIndia: Improving the quality of life fo...</td>\n",
              "      <td>en</td>\n",
              "      <td>False</td>\n",
              "      <td>26809964.0</td>\n",
              "      <td>1641.0</td>\n",
              "      <td>0.0</td>\n",
              "      <td>Prime Minister of India</td>\n",
              "      <td>India</td>\n",
              "      <td>http://pbs.twimg.com/profile_background_images...</td>\n",
              "      <td>Twitter Web Client</td>\n",
              "    </tr>\n",
              "  </tbody>\n",
              "</table>\n",
              "</div>\n",
              "    <div class=\"colab-df-buttons\">\n",
              "\n",
              "  <div class=\"colab-df-container\">\n",
              "    <button class=\"colab-df-convert\" onclick=\"convertToInteractive('df-cde88d46-db30-4bd4-920b-ab7c33f6f521')\"\n",
              "            title=\"Convert this dataframe to an interactive table.\"\n",
              "            style=\"display:none;\">\n",
              "\n",
              "  <svg xmlns=\"http://www.w3.org/2000/svg\" height=\"24px\" viewBox=\"0 -960 960 960\">\n",
              "    <path d=\"M120-120v-720h720v720H120Zm60-500h600v-160H180v160Zm220 220h160v-160H400v160Zm0 220h160v-160H400v160ZM180-400h160v-160H180v160Zm440 0h160v-160H620v160ZM180-180h160v-160H180v160Zm440 0h160v-160H620v160Z\"/>\n",
              "  </svg>\n",
              "    </button>\n",
              "\n",
              "  <style>\n",
              "    .colab-df-container {\n",
              "      display:flex;\n",
              "      gap: 12px;\n",
              "    }\n",
              "\n",
              "    .colab-df-convert {\n",
              "      background-color: #E8F0FE;\n",
              "      border: none;\n",
              "      border-radius: 50%;\n",
              "      cursor: pointer;\n",
              "      display: none;\n",
              "      fill: #1967D2;\n",
              "      height: 32px;\n",
              "      padding: 0 0 0 0;\n",
              "      width: 32px;\n",
              "    }\n",
              "\n",
              "    .colab-df-convert:hover {\n",
              "      background-color: #E2EBFA;\n",
              "      box-shadow: 0px 1px 2px rgba(60, 64, 67, 0.3), 0px 1px 3px 1px rgba(60, 64, 67, 0.15);\n",
              "      fill: #174EA6;\n",
              "    }\n",
              "\n",
              "    .colab-df-buttons div {\n",
              "      margin-bottom: 4px;\n",
              "    }\n",
              "\n",
              "    [theme=dark] .colab-df-convert {\n",
              "      background-color: #3B4455;\n",
              "      fill: #D2E3FC;\n",
              "    }\n",
              "\n",
              "    [theme=dark] .colab-df-convert:hover {\n",
              "      background-color: #434B5C;\n",
              "      box-shadow: 0px 1px 3px 1px rgba(0, 0, 0, 0.15);\n",
              "      filter: drop-shadow(0px 1px 2px rgba(0, 0, 0, 0.3));\n",
              "      fill: #FFFFFF;\n",
              "    }\n",
              "  </style>\n",
              "\n",
              "    <script>\n",
              "      const buttonEl =\n",
              "        document.querySelector('#df-cde88d46-db30-4bd4-920b-ab7c33f6f521 button.colab-df-convert');\n",
              "      buttonEl.style.display =\n",
              "        google.colab.kernel.accessAllowed ? 'block' : 'none';\n",
              "\n",
              "      async function convertToInteractive(key) {\n",
              "        const element = document.querySelector('#df-cde88d46-db30-4bd4-920b-ab7c33f6f521');\n",
              "        const dataTable =\n",
              "          await google.colab.kernel.invokeFunction('convertToInteractive',\n",
              "                                                    [key], {});\n",
              "        if (!dataTable) return;\n",
              "\n",
              "        const docLinkHtml = 'Like what you see? Visit the ' +\n",
              "          '<a target=\"_blank\" href=https://colab.research.google.com/notebooks/data_table.ipynb>data table notebook</a>'\n",
              "          + ' to learn more about interactive tables.';\n",
              "        element.innerHTML = '';\n",
              "        dataTable['output_type'] = 'display_data';\n",
              "        await google.colab.output.renderOutput(dataTable, element);\n",
              "        const docLink = document.createElement('div');\n",
              "        docLink.innerHTML = docLinkHtml;\n",
              "        element.appendChild(docLink);\n",
              "      }\n",
              "    </script>\n",
              "  </div>\n",
              "\n",
              "\n",
              "<div id=\"df-85580faa-1be5-45fc-89ca-82b65690a9c9\">\n",
              "  <button class=\"colab-df-quickchart\" onclick=\"quickchart('df-85580faa-1be5-45fc-89ca-82b65690a9c9')\"\n",
              "            title=\"Suggest charts\"\n",
              "            style=\"display:none;\">\n",
              "\n",
              "<svg xmlns=\"http://www.w3.org/2000/svg\" height=\"24px\"viewBox=\"0 0 24 24\"\n",
              "     width=\"24px\">\n",
              "    <g>\n",
              "        <path d=\"M19 3H5c-1.1 0-2 .9-2 2v14c0 1.1.9 2 2 2h14c1.1 0 2-.9 2-2V5c0-1.1-.9-2-2-2zM9 17H7v-7h2v7zm4 0h-2V7h2v10zm4 0h-2v-4h2v4z\"/>\n",
              "    </g>\n",
              "</svg>\n",
              "  </button>\n",
              "\n",
              "<style>\n",
              "  .colab-df-quickchart {\n",
              "      --bg-color: #E8F0FE;\n",
              "      --fill-color: #1967D2;\n",
              "      --hover-bg-color: #E2EBFA;\n",
              "      --hover-fill-color: #174EA6;\n",
              "      --disabled-fill-color: #AAA;\n",
              "      --disabled-bg-color: #DDD;\n",
              "  }\n",
              "\n",
              "  [theme=dark] .colab-df-quickchart {\n",
              "      --bg-color: #3B4455;\n",
              "      --fill-color: #D2E3FC;\n",
              "      --hover-bg-color: #434B5C;\n",
              "      --hover-fill-color: #FFFFFF;\n",
              "      --disabled-bg-color: #3B4455;\n",
              "      --disabled-fill-color: #666;\n",
              "  }\n",
              "\n",
              "  .colab-df-quickchart {\n",
              "    background-color: var(--bg-color);\n",
              "    border: none;\n",
              "    border-radius: 50%;\n",
              "    cursor: pointer;\n",
              "    display: none;\n",
              "    fill: var(--fill-color);\n",
              "    height: 32px;\n",
              "    padding: 0;\n",
              "    width: 32px;\n",
              "  }\n",
              "\n",
              "  .colab-df-quickchart:hover {\n",
              "    background-color: var(--hover-bg-color);\n",
              "    box-shadow: 0 1px 2px rgba(60, 64, 67, 0.3), 0 1px 3px 1px rgba(60, 64, 67, 0.15);\n",
              "    fill: var(--button-hover-fill-color);\n",
              "  }\n",
              "\n",
              "  .colab-df-quickchart-complete:disabled,\n",
              "  .colab-df-quickchart-complete:disabled:hover {\n",
              "    background-color: var(--disabled-bg-color);\n",
              "    fill: var(--disabled-fill-color);\n",
              "    box-shadow: none;\n",
              "  }\n",
              "\n",
              "  .colab-df-spinner {\n",
              "    border: 2px solid var(--fill-color);\n",
              "    border-color: transparent;\n",
              "    border-bottom-color: var(--fill-color);\n",
              "    animation:\n",
              "      spin 1s steps(1) infinite;\n",
              "  }\n",
              "\n",
              "  @keyframes spin {\n",
              "    0% {\n",
              "      border-color: transparent;\n",
              "      border-bottom-color: var(--fill-color);\n",
              "      border-left-color: var(--fill-color);\n",
              "    }\n",
              "    20% {\n",
              "      border-color: transparent;\n",
              "      border-left-color: var(--fill-color);\n",
              "      border-top-color: var(--fill-color);\n",
              "    }\n",
              "    30% {\n",
              "      border-color: transparent;\n",
              "      border-left-color: var(--fill-color);\n",
              "      border-top-color: var(--fill-color);\n",
              "      border-right-color: var(--fill-color);\n",
              "    }\n",
              "    40% {\n",
              "      border-color: transparent;\n",
              "      border-right-color: var(--fill-color);\n",
              "      border-top-color: var(--fill-color);\n",
              "    }\n",
              "    60% {\n",
              "      border-color: transparent;\n",
              "      border-right-color: var(--fill-color);\n",
              "    }\n",
              "    80% {\n",
              "      border-color: transparent;\n",
              "      border-right-color: var(--fill-color);\n",
              "      border-bottom-color: var(--fill-color);\n",
              "    }\n",
              "    90% {\n",
              "      border-color: transparent;\n",
              "      border-bottom-color: var(--fill-color);\n",
              "    }\n",
              "  }\n",
              "</style>\n",
              "\n",
              "  <script>\n",
              "    async function quickchart(key) {\n",
              "      const quickchartButtonEl =\n",
              "        document.querySelector('#' + key + ' button');\n",
              "      quickchartButtonEl.disabled = true;  // To prevent multiple clicks.\n",
              "      quickchartButtonEl.classList.add('colab-df-spinner');\n",
              "      try {\n",
              "        const charts = await google.colab.kernel.invokeFunction(\n",
              "            'suggestCharts', [key], {});\n",
              "      } catch (error) {\n",
              "        console.error('Error during call to suggestCharts:', error);\n",
              "      }\n",
              "      quickchartButtonEl.classList.remove('colab-df-spinner');\n",
              "      quickchartButtonEl.classList.add('colab-df-quickchart-complete');\n",
              "    }\n",
              "    (() => {\n",
              "      let quickchartButtonEl =\n",
              "        document.querySelector('#df-85580faa-1be5-45fc-89ca-82b65690a9c9 button');\n",
              "      quickchartButtonEl.style.display =\n",
              "        google.colab.kernel.accessAllowed ? 'block' : 'none';\n",
              "    })();\n",
              "  </script>\n",
              "</div>\n",
              "\n",
              "    </div>\n",
              "  </div>\n"
            ],
            "application/vnd.google.colaboratory.intrinsic+json": {
              "type": "dataframe",
              "variable_name": "tweets",
              "summary": "{\n  \"name\": \"tweets\",\n  \"rows\": 3220,\n  \"fields\": [\n    {\n      \"column\": \"id\",\n      \"properties\": {\n        \"dtype\": \"number\",\n        \"std\": 3.209170632408318e+16,\n        \"min\": 7.07541990717e+17,\n        \"max\": 8.26384562192e+17,\n        \"num_unique_values\": 3220,\n        \"samples\": [\n          8.13749792241e+17,\n          8.05043581832e+17,\n          7.98120844099e+17\n        ],\n        \"semantic_type\": \"\",\n        \"description\": \"\"\n      }\n    },\n    {\n      \"column\": \"retweets_count\",\n      \"properties\": {\n        \"dtype\": \"number\",\n        \"std\": 1858.162796489062,\n        \"min\": 125.0,\n        \"max\": 21888.0,\n        \"num_unique_values\": 2134,\n        \"samples\": [\n          1616.0,\n          1618.0,\n          817.0\n        ],\n        \"semantic_type\": \"\",\n        \"description\": \"\"\n      }\n    },\n    {\n      \"column\": \"favorite_count\",\n      \"properties\": {\n        \"dtype\": \"number\",\n        \"std\": 5894.078915096954,\n        \"min\": 0.0,\n        \"max\": 52649.0,\n        \"num_unique_values\": 2361,\n        \"samples\": [\n          4011.0,\n          4525.0,\n          4676.0\n        ],\n        \"semantic_type\": \"\",\n        \"description\": \"\"\n      }\n    },\n    {\n      \"column\": \"created_at\",\n      \"properties\": {\n        \"dtype\": \"object\",\n        \"num_unique_values\": 3220,\n        \"samples\": [\n          \"2016-12-27 14:14:03\",\n          \"2016-12-03 13:38:41\",\n          \"2016-11-14 11:10:12\"\n        ],\n        \"semantic_type\": \"\",\n        \"description\": \"\"\n      }\n    },\n    {\n      \"column\": \"text\",\n      \"properties\": {\n        \"dtype\": \"string\",\n        \"num_unique_values\": 3220,\n        \"samples\": [\n          \"The various #DigiDhanMela's have generated immense enthusiasm &amp; awareness on need &amp; methods of digital payments.\",\n          \"\\u0905\\u092a\\u0928\\u0947 \\u0932\\u093f\\u090f \\u0914\\u0930 \\u0905\\u092a\\u0928\\u094b\\u0902 \\u0915\\u0947 \\u0932\\u093f\\u090f \\u0915\\u0930\\u0928\\u0947 \\u0935\\u093e\\u0932\\u0940 \\u0938\\u0930\\u0915\\u093e\\u0930\\u0947\\u0902 \\u092c\\u0939\\u0941\\u0924 \\u0906\\u0908\\u0902, \\u0939\\u092e\\u093e\\u0930\\u0940 \\u0938\\u0930\\u0915\\u093e\\u0930 \\u091c\\u0928\\u0924\\u093e \\u0915\\u0947 \\u0932\\u093f\\u090f \\u0915\\u093e\\u092e \\u0915\\u0930\\u0928\\u0947 \\u0935\\u093e\\u0932\\u0940 \\u0938\\u0930\\u0915\\u093e\\u0930 \\u0939\\u0948\\u0964 https://t.co/v81NFDp1dk\",\n          \"RT @sureshpprabhu: 2/Hon.PM @narendramodi flagd off new Shabd Bhedi Express Train between Ghazipur nd Kolkata.Long awaited demand of people\\u2026\"\n        ],\n        \"semantic_type\": \"\",\n        \"description\": \"\"\n      }\n    },\n    {\n      \"column\": \"lang\",\n      \"properties\": {\n        \"dtype\": \"category\",\n        \"num_unique_values\": 30,\n        \"samples\": [\n          \"fr\",\n          \"da\",\n          \"ro\"\n        ],\n        \"semantic_type\": \"\",\n        \"description\": \"\"\n      }\n    },\n    {\n      \"column\": \"retweeted\",\n      \"properties\": {\n        \"dtype\": \"boolean\",\n        \"num_unique_values\": 1,\n        \"samples\": [\n          false\n        ],\n        \"semantic_type\": \"\",\n        \"description\": \"\"\n      }\n    },\n    {\n      \"column\": \"followers_count\",\n      \"properties\": {\n        \"dtype\": \"number\",\n        \"std\": 24.874369584223196,\n        \"min\": 26809964.0,\n        \"max\": 26810043.0,\n        \"num_unique_values\": 61,\n        \"samples\": [\n          26809964.0\n        ],\n        \"semantic_type\": \"\",\n        \"description\": \"\"\n      }\n    },\n    {\n      \"column\": \"friends_count\",\n      \"properties\": {\n        \"dtype\": \"number\",\n        \"std\": 0.0,\n        \"min\": 1641.0,\n        \"max\": 1641.0,\n        \"num_unique_values\": 1,\n        \"samples\": [\n          1641.0\n        ],\n        \"semantic_type\": \"\",\n        \"description\": \"\"\n      }\n    },\n    {\n      \"column\": \"hashtags_count\",\n      \"properties\": {\n        \"dtype\": \"number\",\n        \"std\": 0.60089545709359,\n        \"min\": 0.0,\n        \"max\": 7.0,\n        \"num_unique_values\": 7,\n        \"samples\": [\n          1.0\n        ],\n        \"semantic_type\": \"\",\n        \"description\": \"\"\n      }\n    },\n    {\n      \"column\": \"description\",\n      \"properties\": {\n        \"dtype\": \"category\",\n        \"num_unique_values\": 1,\n        \"samples\": [\n          \"Prime Minister of India\"\n        ],\n        \"semantic_type\": \"\",\n        \"description\": \"\"\n      }\n    },\n    {\n      \"column\": \"location\",\n      \"properties\": {\n        \"dtype\": \"category\",\n        \"num_unique_values\": 1,\n        \"samples\": [\n          \"India\"\n        ],\n        \"semantic_type\": \"\",\n        \"description\": \"\"\n      }\n    },\n    {\n      \"column\": \"background_image_url\",\n      \"properties\": {\n        \"dtype\": \"category\",\n        \"num_unique_values\": 1,\n        \"samples\": [\n          \"http://pbs.twimg.com/profile_background_images/562185004696875009/DiiHx54g.jpeg\"\n        ],\n        \"semantic_type\": \"\",\n        \"description\": \"\"\n      }\n    },\n    {\n      \"column\": \"source\",\n      \"properties\": {\n        \"dtype\": \"category\",\n        \"num_unique_values\": 6,\n        \"samples\": [\n          \"Twitter Web Client\"\n        ],\n        \"semantic_type\": \"\",\n        \"description\": \"\"\n      }\n    }\n  ]\n}"
            }
          },
          "metadata": {},
          "execution_count": 5
        }
      ]
    },
    {
      "cell_type": "code",
      "source": [
        "docs = tweets['text']\n",
        "docs.head()"
      ],
      "metadata": {
        "colab": {
          "base_uri": "https://localhost:8080/",
          "height": 241
        },
        "id": "wl7NXYUrFfuk",
        "outputId": "7c95d749-4df6-474c-c72c-b4abc14822a8"
      },
      "execution_count": 6,
      "outputs": [
        {
          "output_type": "execute_result",
          "data": {
            "text/plain": [
              "0    The President's address wonderfully encapsulat...\n",
              "1    Rashtrapati Ji's address to both Houses of Par...\n",
              "2    RT @PMOIndia: Empowering the marginalised. htt...\n",
              "3    RT @PMOIndia: Commitment to welfare of farmers...\n",
              "4    RT @PMOIndia: Improving the quality of life fo...\n",
              "Name: text, dtype: object"
            ],
            "text/html": [
              "<div>\n",
              "<style scoped>\n",
              "    .dataframe tbody tr th:only-of-type {\n",
              "        vertical-align: middle;\n",
              "    }\n",
              "\n",
              "    .dataframe tbody tr th {\n",
              "        vertical-align: top;\n",
              "    }\n",
              "\n",
              "    .dataframe thead th {\n",
              "        text-align: right;\n",
              "    }\n",
              "</style>\n",
              "<table border=\"1\" class=\"dataframe\">\n",
              "  <thead>\n",
              "    <tr style=\"text-align: right;\">\n",
              "      <th></th>\n",
              "      <th>text</th>\n",
              "    </tr>\n",
              "  </thead>\n",
              "  <tbody>\n",
              "    <tr>\n",
              "      <th>0</th>\n",
              "      <td>The President's address wonderfully encapsulat...</td>\n",
              "    </tr>\n",
              "    <tr>\n",
              "      <th>1</th>\n",
              "      <td>Rashtrapati Ji's address to both Houses of Par...</td>\n",
              "    </tr>\n",
              "    <tr>\n",
              "      <th>2</th>\n",
              "      <td>RT @PMOIndia: Empowering the marginalised. htt...</td>\n",
              "    </tr>\n",
              "    <tr>\n",
              "      <th>3</th>\n",
              "      <td>RT @PMOIndia: Commitment to welfare of farmers...</td>\n",
              "    </tr>\n",
              "    <tr>\n",
              "      <th>4</th>\n",
              "      <td>RT @PMOIndia: Improving the quality of life fo...</td>\n",
              "    </tr>\n",
              "  </tbody>\n",
              "</table>\n",
              "</div><br><label><b>dtype:</b> object</label>"
            ]
          },
          "metadata": {},
          "execution_count": 6
        }
      ]
    },
    {
      "cell_type": "markdown",
      "source": [
        "## Bag of word analysis\n",
        "- Frequency of tokens and visualize them in word cloud"
      ],
      "metadata": {
        "id": "298KRQnaJw7X"
      }
    },
    {
      "cell_type": "code",
      "source": [
        "docs.iloc[100]"
      ],
      "metadata": {
        "colab": {
          "base_uri": "https://localhost:8080/",
          "height": 36
        },
        "id": "A0O0Pej0FLUP",
        "outputId": "6565acb5-24e4-4fe2-aacb-b0f4cfc6561c"
      },
      "execution_count": 7,
      "outputs": [
        {
          "output_type": "execute_result",
          "data": {
            "text/plain": [
              "'Sonu Mali from Rajasthan saved a school mate from a cobra attack. We are proud of this courageous youngster. https://t.co/r2rLN5cuKj'"
            ],
            "application/vnd.google.colaboratory.intrinsic+json": {
              "type": "string"
            }
          },
          "metadata": {},
          "execution_count": 7
        }
      ]
    },
    {
      "cell_type": "code",
      "source": [
        "doc = docs.iloc[100]\n",
        "print(doc)\n",
        "doc_new = doc.lower()\n",
        "print(doc_new)\n",
        "tokens = doc.split(' ')\n",
        "#len(tokens)"
      ],
      "metadata": {
        "colab": {
          "base_uri": "https://localhost:8080/"
        },
        "id": "CVsZCQRvM-1K",
        "outputId": "041e4e9c-4a2d-4eb8-9bbb-1b88ca17f3a8"
      },
      "execution_count": 8,
      "outputs": [
        {
          "output_type": "stream",
          "name": "stdout",
          "text": [
            "Sonu Mali from Rajasthan saved a school mate from a cobra attack. We are proud of this courageous youngster. https://t.co/r2rLN5cuKj\n",
            "sonu mali from rajasthan saved a school mate from a cobra attack. we are proud of this courageous youngster. https://t.co/r2rln5cukj\n"
          ]
        }
      ]
    },
    {
      "cell_type": "code",
      "source": [
        "all_tokens = []\n",
        "for doc in docs:\n",
        "  doc_new = doc.lower()\n",
        "  tokens = doc_new.split(' ')\n",
        "  all_tokens.extend(tokens)\n",
        "len(all_tokens)"
      ],
      "metadata": {
        "colab": {
          "base_uri": "https://localhost:8080/"
        },
        "id": "yUD0Ecy9R0yE",
        "outputId": "18b63ccc-cf86-4c56-e134-f31e3ee20c3e"
      },
      "execution_count": 9,
      "outputs": [
        {
          "output_type": "execute_result",
          "data": {
            "text/plain": [
              "56862"
            ]
          },
          "metadata": {},
          "execution_count": 9
        }
      ]
    },
    {
      "cell_type": "code",
      "source": [
        "# exercise\n",
        "hashtags_tokens = [token for token in all_tokens if token.startswith('#')]\n",
        "len(hashtags_tokens)"
      ],
      "metadata": {
        "colab": {
          "base_uri": "https://localhost:8080/"
        },
        "id": "emnt5yhITD5T",
        "outputId": "1d8f5a2a-57f8-4e99-97d6-e03b8e7eb8f3"
      },
      "execution_count": 10,
      "outputs": [
        {
          "output_type": "execute_result",
          "data": {
            "text/plain": [
              "831"
            ]
          },
          "metadata": {},
          "execution_count": 10
        }
      ]
    },
    {
      "cell_type": "code",
      "source": [
        "bow = pd.Series(all_tokens).value_counts()\n",
        "#bow.head(25)"
      ],
      "metadata": {
        "id": "DYkRYRnaUPvS"
      },
      "execution_count": 11,
      "outputs": []
    },
    {
      "cell_type": "code",
      "source": [
        "import nltk\n",
        "nltk.download('stopwords')\n",
        "stopwords = nltk.corpus.stopwords.words('english')\n",
        "stopwords.extend(['&amp;', 'rt', ''])"
      ],
      "metadata": {
        "colab": {
          "base_uri": "https://localhost:8080/"
        },
        "id": "JjF3Pc92WGHK",
        "outputId": "b1da89af-cf5f-473d-cc63-9750c88c3f8a"
      },
      "execution_count": 12,
      "outputs": [
        {
          "output_type": "stream",
          "name": "stderr",
          "text": [
            "[nltk_data] Downloading package stopwords to /root/nltk_data...\n",
            "[nltk_data]   Unzipping corpora/stopwords.zip.\n"
          ]
        }
      ]
    },
    {
      "cell_type": "code",
      "source": [
        "s = pd.Series([1,2,3,4], index=['a', 'b', 'c', 'd'])\n",
        "x = ['b', 'a']\n",
        "\n",
        "s[~s.index.isin(x)]"
      ],
      "metadata": {
        "colab": {
          "base_uri": "https://localhost:8080/",
          "height": 147
        },
        "id": "-rvI6p9kYTF_",
        "outputId": "c807f8c0-89ce-45f7-9daa-ee50dbbdb1e1"
      },
      "execution_count": 13,
      "outputs": [
        {
          "output_type": "execute_result",
          "data": {
            "text/plain": [
              "c    3\n",
              "d    4\n",
              "dtype: int64"
            ],
            "text/html": [
              "<div>\n",
              "<style scoped>\n",
              "    .dataframe tbody tr th:only-of-type {\n",
              "        vertical-align: middle;\n",
              "    }\n",
              "\n",
              "    .dataframe tbody tr th {\n",
              "        vertical-align: top;\n",
              "    }\n",
              "\n",
              "    .dataframe thead th {\n",
              "        text-align: right;\n",
              "    }\n",
              "</style>\n",
              "<table border=\"1\" class=\"dataframe\">\n",
              "  <thead>\n",
              "    <tr style=\"text-align: right;\">\n",
              "      <th></th>\n",
              "      <th>0</th>\n",
              "    </tr>\n",
              "  </thead>\n",
              "  <tbody>\n",
              "    <tr>\n",
              "      <th>c</th>\n",
              "      <td>3</td>\n",
              "    </tr>\n",
              "    <tr>\n",
              "      <th>d</th>\n",
              "      <td>4</td>\n",
              "    </tr>\n",
              "  </tbody>\n",
              "</table>\n",
              "</div><br><label><b>dtype:</b> int64</label>"
            ]
          },
          "metadata": {},
          "execution_count": 13
        }
      ]
    },
    {
      "cell_type": "code",
      "source": [
        "bow_new = bow[~bow.index.isin(stopwords)]\n",
        "bow_new.head(25).plot.barh();"
      ],
      "metadata": {
        "colab": {
          "base_uri": "https://localhost:8080/",
          "height": 916
        },
        "id": "ggIhBOXvW8CT",
        "outputId": "46f15dc8-ed2f-41db-8b19-fab8c4c72e13"
      },
      "execution_count": 14,
      "outputs": [
        {
          "output_type": "stream",
          "name": "stderr",
          "text": [
            "/usr/local/lib/python3.10/dist-packages/IPython/core/events.py:89: UserWarning: Glyph 2325 (\\N{DEVANAGARI LETTER KA}) missing from current font.\n",
            "  func(*args, **kwargs)\n",
            "/usr/local/lib/python3.10/dist-packages/IPython/core/events.py:89: UserWarning: Matplotlib currently does not support Devanagari natively.\n",
            "  func(*args, **kwargs)\n",
            "/usr/local/lib/python3.10/dist-packages/IPython/core/events.py:89: UserWarning: Glyph 2375 (\\N{DEVANAGARI VOWEL SIGN E}) missing from current font.\n",
            "  func(*args, **kwargs)\n",
            "/usr/local/lib/python3.10/dist-packages/IPython/core/events.py:89: UserWarning: Glyph 2350 (\\N{DEVANAGARI LETTER MA}) missing from current font.\n",
            "  func(*args, **kwargs)\n",
            "/usr/local/lib/python3.10/dist-packages/IPython/core/events.py:89: UserWarning: Glyph 2306 (\\N{DEVANAGARI SIGN ANUSVARA}) missing from current font.\n",
            "  func(*args, **kwargs)\n",
            "/usr/local/lib/python3.10/dist-packages/IPython/core/events.py:89: UserWarning: Glyph 2379 (\\N{DEVANAGARI VOWEL SIGN O}) missing from current font.\n",
            "  func(*args, **kwargs)\n",
            "/usr/local/lib/python3.10/dist-packages/IPython/core/events.py:89: UserWarning: Glyph 2368 (\\N{DEVANAGARI VOWEL SIGN II}) missing from current font.\n",
            "  func(*args, **kwargs)\n",
            "/usr/local/lib/python3.10/dist-packages/IPython/core/pylabtools.py:151: UserWarning: Glyph 2325 (\\N{DEVANAGARI LETTER KA}) missing from current font.\n",
            "  fig.canvas.print_figure(bytes_io, **kw)\n",
            "/usr/local/lib/python3.10/dist-packages/IPython/core/pylabtools.py:151: UserWarning: Matplotlib currently does not support Devanagari natively.\n",
            "  fig.canvas.print_figure(bytes_io, **kw)\n",
            "/usr/local/lib/python3.10/dist-packages/IPython/core/pylabtools.py:151: UserWarning: Glyph 2375 (\\N{DEVANAGARI VOWEL SIGN E}) missing from current font.\n",
            "  fig.canvas.print_figure(bytes_io, **kw)\n",
            "/usr/local/lib/python3.10/dist-packages/IPython/core/pylabtools.py:151: UserWarning: Glyph 2350 (\\N{DEVANAGARI LETTER MA}) missing from current font.\n",
            "  fig.canvas.print_figure(bytes_io, **kw)\n",
            "/usr/local/lib/python3.10/dist-packages/IPython/core/pylabtools.py:151: UserWarning: Glyph 2306 (\\N{DEVANAGARI SIGN ANUSVARA}) missing from current font.\n",
            "  fig.canvas.print_figure(bytes_io, **kw)\n",
            "/usr/local/lib/python3.10/dist-packages/IPython/core/pylabtools.py:151: UserWarning: Glyph 2379 (\\N{DEVANAGARI VOWEL SIGN O}) missing from current font.\n",
            "  fig.canvas.print_figure(bytes_io, **kw)\n",
            "/usr/local/lib/python3.10/dist-packages/IPython/core/pylabtools.py:151: UserWarning: Glyph 2368 (\\N{DEVANAGARI VOWEL SIGN II}) missing from current font.\n",
            "  fig.canvas.print_figure(bytes_io, **kw)\n"
          ]
        },
        {
          "output_type": "display_data",
          "data": {
            "text/plain": [
              "<Figure size 640x480 with 1 Axes>"
            ],
            "image/png": "[encoded data removed]"
          },
          "metadata": {}
        }
      ]
    },
    {
      "cell_type": "code",
      "source": [
        "vocab = bow_new.index.tolist()\n",
        "len(vocab)"
      ],
      "metadata": {
        "colab": {
          "base_uri": "https://localhost:8080/"
        },
        "id": "ijUQtjAfZMlT",
        "outputId": "e8c137c2-0f6b-4c18-b0a0-ca997a616ac2"
      },
      "execution_count": 15,
      "outputs": [
        {
          "output_type": "execute_result",
          "data": {
            "text/plain": [
              "13271"
            ]
          },
          "metadata": {},
          "execution_count": 15
        }
      ]
    },
    {
      "cell_type": "markdown",
      "source": [
        "## Wordcloud"
      ],
      "metadata": {
        "id": "Uu5cWbn4gdfA"
      }
    },
    {
      "cell_type": "code",
      "source": [
        "from wordcloud import WordCloud\n",
        "import matplotlib.pyplot as plt"
      ],
      "metadata": {
        "id": "YRhHaZZHgVkX"
      },
      "execution_count": 16,
      "outputs": []
    },
    {
      "cell_type": "code",
      "source": [
        "stopwords = nltk.corpus.stopwords.words('english')\n",
        "stopwords.extend(['&amp;', 'rt', '', 'https', 'co', 'amp', 't'])"
      ],
      "metadata": {
        "id": "ph6DSEDUh7HZ"
      },
      "execution_count": 17,
      "outputs": []
    },
    {
      "cell_type": "code",
      "source": [
        "docs_str = ' '.join(docs.str.lower())\n",
        "\n",
        "wordcloud = WordCloud(\n",
        "    background_color='white',\n",
        "    stopwords=stopwords\n",
        "    ).generate(docs_str)\n",
        "#plt.imshow(wordcloud);"
      ],
      "metadata": {
        "id": "oYipw7rJgswj"
      },
      "execution_count": 18,
      "outputs": []
    },
    {
      "cell_type": "code",
      "source": [
        "fig = plt.figure(figsize=(14,5))\n",
        "hashtags_str = ' '.join(hashtags_tokens)\n",
        "wordcloud = WordCloud(\n",
        "    background_color='white',\n",
        "    stopwords=stopwords\n",
        "    ).generate(hashtags_str)\n",
        "plt.imshow(wordcloud);"
      ],
      "metadata": {
        "colab": {
          "base_uri": "https://localhost:8080/",
          "height": 450
        },
        "id": "MOoo-LxNjaa5",
        "outputId": "80f3da00-89d4-4461-d98f-d2700cdef563"
      },
      "execution_count": 19,
      "outputs": [
        {
          "output_type": "display_data",
          "data": {
            "text/plain": [
              "<Figure size 1400x500 with 1 Axes>"
            ],
            "image/png": "[encoded data removed]"
          },
          "metadata": {}
        }
      ]
    },
    {
      "cell_type": "markdown",
      "source": [
        "### Text preprocessing\n",
        "- Lower case conversion\n",
        "- Stopwords removal\n",
        "- Root word identification (stemming, lemmatization)\n",
        "- Text cleaning\n",
        "  - Remove special characters\n",
        "  - Remove regional languages"
      ],
      "metadata": {
        "id": "K0GdHMXbk4yM"
      }
    },
    {
      "cell_type": "markdown",
      "source": [
        "## Root word identification"
      ],
      "metadata": {
        "id": "CTv6bkCklVxi"
      }
    },
    {
      "cell_type": "code",
      "source": [
        "words = ['play', 'playing', 'played', 'playful', 'organization', 'slowly']\n",
        "from nltk.stem.porter import *\n",
        "stemmer = PorterStemmer()\n",
        "for word in words:\n",
        "  print(word, stemmer.stem(word))\n"
      ],
      "metadata": {
        "colab": {
          "base_uri": "https://localhost:8080/"
        },
        "id": "CZ0ZMQO6k30F",
        "outputId": "ba47fcb9-d7fb-41ba-c420-ca7695d781bc"
      },
      "execution_count": 20,
      "outputs": [
        {
          "output_type": "stream",
          "name": "stdout",
          "text": [
            "play play\n",
            "playing play\n",
            "played play\n",
            "playful play\n",
            "organization organ\n",
            "slowly slowli\n"
          ]
        }
      ]
    },
    {
      "cell_type": "markdown",
      "source": [
        "### Document Term Matrix"
      ],
      "metadata": {
        "id": "SrkDr1m5p3cj"
      }
    },
    {
      "cell_type": "code",
      "source": [
        "reviews_url = 'https://raw.githubusercontent.com/skathirmani/datasets/refs/heads/main/imdb_subset.csv'\n",
        "imdb = pd.read_csv(reviews_url)\n",
        "imdb.shape"
      ],
      "metadata": {
        "colab": {
          "base_uri": "https://localhost:8080/"
        },
        "id": "defeSNbNp26v",
        "outputId": "92b8f0cb-80ff-4e8c-f739-cc653521de8c"
      },
      "execution_count": 21,
      "outputs": [
        {
          "output_type": "execute_result",
          "data": {
            "text/plain": [
              "(10000, 2)"
            ]
          },
          "metadata": {},
          "execution_count": 21
        }
      ]
    },
    {
      "cell_type": "code",
      "source": [
        "imdb.head()"
      ],
      "metadata": {
        "colab": {
          "base_uri": "https://localhost:8080/",
          "height": 206
        },
        "id": "LE28LiBYzFnM",
        "outputId": "4b547903-eb61-46ce-f151-b68953add338"
      },
      "execution_count": 22,
      "outputs": [
        {
          "output_type": "execute_result",
          "data": {
            "text/plain": [
              "                                              review sentiment\n",
              "0  I can't say that this movie deserves a ten, be...  positive\n",
              "1  Yet again, Madhur Bhandarkar takes you on a ri...  positive\n",
              "2  Angela Lansbury plays Eglantine a middle aged ...  positive\n",
              "3  the tortuous emotional impact is degrading, wh...  negative\n",
              "4  W. Somerset Maugham's Of Human Bondage is supp...  negative"
            ],
            "text/html": [
              "\n",
              "  <div id=\"df-97263619-6d51-4382-930b-5f81a3e3ade4\" class=\"colab-df-container\">\n",
              "    <div>\n",
              "<style scoped>\n",
              "    .dataframe tbody tr th:only-of-type {\n",
              "        vertical-align: middle;\n",
              "    }\n",
              "\n",
              "    .dataframe tbody tr th {\n",
              "        vertical-align: top;\n",
              "    }\n",
              "\n",
              "    .dataframe thead th {\n",
              "        text-align: right;\n",
              "    }\n",
              "</style>\n",
              "<table border=\"1\" class=\"dataframe\">\n",
              "  <thead>\n",
              "    <tr style=\"text-align: right;\">\n",
              "      <th></th>\n",
              "      <th>review</th>\n",
              "      <th>sentiment</th>\n",
              "    </tr>\n",
              "  </thead>\n",
              "  <tbody>\n",
              "    <tr>\n",
              "      <th>0</th>\n",
              "      <td>I can't say that this movie deserves a ten, be...</td>\n",
              "      <td>positive</td>\n",
              "    </tr>\n",
              "    <tr>\n",
              "      <th>1</th>\n",
              "      <td>Yet again, Madhur Bhandarkar takes you on a ri...</td>\n",
              "      <td>positive</td>\n",
              "    </tr>\n",
              "    <tr>\n",
              "      <th>2</th>\n",
              "      <td>Angela Lansbury plays Eglantine a middle aged ...</td>\n",
              "      <td>positive</td>\n",
              "    </tr>\n",
              "    <tr>\n",
              "      <th>3</th>\n",
              "      <td>the tortuous emotional impact is degrading, wh...</td>\n",
              "      <td>negative</td>\n",
              "    </tr>\n",
              "    <tr>\n",
              "      <th>4</th>\n",
              "      <td>W. Somerset Maugham's Of Human Bondage is supp...</td>\n",
              "      <td>negative</td>\n",
              "    </tr>\n",
              "  </tbody>\n",
              "</table>\n",
              "</div>\n",
              "    <div class=\"colab-df-buttons\">\n",
              "\n",
              "  <div class=\"colab-df-container\">\n",
              "    <button class=\"colab-df-convert\" onclick=\"convertToInteractive('df-97263619-6d51-4382-930b-5f81a3e3ade4')\"\n",
              "            title=\"Convert this dataframe to an interactive table.\"\n",
              "            style=\"display:none;\">\n",
              "\n",
              "  <svg xmlns=\"http://www.w3.org/2000/svg\" height=\"24px\" viewBox=\"0 -960 960 960\">\n",
              "    <path d=\"M120-120v-720h720v720H120Zm60-500h600v-160H180v160Zm220 220h160v-160H400v160Zm0 220h160v-160H400v160ZM180-400h160v-160H180v160Zm440 0h160v-160H620v160ZM180-180h160v-160H180v160Zm440 0h160v-160H620v160Z\"/>\n",
              "  </svg>\n",
              "    </button>\n",
              "\n",
              "  <style>\n",
              "    .colab-df-container {\n",
              "      display:flex;\n",
              "      gap: 12px;\n",
              "    }\n",
              "\n",
              "    .colab-df-convert {\n",
              "      background-color: #E8F0FE;\n",
              "      border: none;\n",
              "      border-radius: 50%;\n",
              "      cursor: pointer;\n",
              "      display: none;\n",
              "      fill: #1967D2;\n",
              "      height: 32px;\n",
              "      padding: 0 0 0 0;\n",
              "      width: 32px;\n",
              "    }\n",
              "\n",
              "    .colab-df-convert:hover {\n",
              "      background-color: #E2EBFA;\n",
              "      box-shadow: 0px 1px 2px rgba(60, 64, 67, 0.3), 0px 1px 3px 1px rgba(60, 64, 67, 0.15);\n",
              "      fill: #174EA6;\n",
              "    }\n",
              "\n",
              "    .colab-df-buttons div {\n",
              "      margin-bottom: 4px;\n",
              "    }\n",
              "\n",
              "    [theme=dark] .colab-df-convert {\n",
              "      background-color: #3B4455;\n",
              "      fill: #D2E3FC;\n",
              "    }\n",
              "\n",
              "    [theme=dark] .colab-df-convert:hover {\n",
              "      background-color: #434B5C;\n",
              "      box-shadow: 0px 1px 3px 1px rgba(0, 0, 0, 0.15);\n",
              "      filter: drop-shadow(0px 1px 2px rgba(0, 0, 0, 0.3));\n",
              "      fill: #FFFFFF;\n",
              "    }\n",
              "  </style>\n",
              "\n",
              "    <script>\n",
              "      const buttonEl =\n",
              "        document.querySelector('#df-97263619-6d51-4382-930b-5f81a3e3ade4 button.colab-df-convert');\n",
              "      buttonEl.style.display =\n",
              "        google.colab.kernel.accessAllowed ? 'block' : 'none';\n",
              "\n",
              "      async function convertToInteractive(key) {\n",
              "        const element = document.querySelector('#df-97263619-6d51-4382-930b-5f81a3e3ade4');\n",
              "        const dataTable =\n",
              "          await google.colab.kernel.invokeFunction('convertToInteractive',\n",
              "                                                    [key], {});\n",
              "        if (!dataTable) return;\n",
              "\n",
              "        const docLinkHtml = 'Like what you see? Visit the ' +\n",
              "          '<a target=\"_blank\" href=https://colab.research.google.com/notebooks/data_table.ipynb>data table notebook</a>'\n",
              "          + ' to learn more about interactive tables.';\n",
              "        element.innerHTML = '';\n",
              "        dataTable['output_type'] = 'display_data';\n",
              "        await google.colab.output.renderOutput(dataTable, element);\n",
              "        const docLink = document.createElement('div');\n",
              "        docLink.innerHTML = docLinkHtml;\n",
              "        element.appendChild(docLink);\n",
              "      }\n",
              "    </script>\n",
              "  </div>\n",
              "\n",
              "\n",
              "<div id=\"df-eb79bcec-11cc-4de0-bdb3-f168e7022304\">\n",
              "  <button class=\"colab-df-quickchart\" onclick=\"quickchart('df-eb79bcec-11cc-4de0-bdb3-f168e7022304')\"\n",
              "            title=\"Suggest charts\"\n",
              "            style=\"display:none;\">\n",
              "\n",
              "<svg xmlns=\"http://www.w3.org/2000/svg\" height=\"24px\"viewBox=\"0 0 24 24\"\n",
              "     width=\"24px\">\n",
              "    <g>\n",
              "        <path d=\"M19 3H5c-1.1 0-2 .9-2 2v14c0 1.1.9 2 2 2h14c1.1 0 2-.9 2-2V5c0-1.1-.9-2-2-2zM9 17H7v-7h2v7zm4 0h-2V7h2v10zm4 0h-2v-4h2v4z\"/>\n",
              "    </g>\n",
              "</svg>\n",
              "  </button>\n",
              "\n",
              "<style>\n",
              "  .colab-df-quickchart {\n",
              "      --bg-color: #E8F0FE;\n",
              "      --fill-color: #1967D2;\n",
              "      --hover-bg-color: #E2EBFA;\n",
              "      --hover-fill-color: #174EA6;\n",
              "      --disabled-fill-color: #AAA;\n",
              "      --disabled-bg-color: #DDD;\n",
              "  }\n",
              "\n",
              "  [theme=dark] .colab-df-quickchart {\n",
              "      --bg-color: #3B4455;\n",
              "      --fill-color: #D2E3FC;\n",
              "      --hover-bg-color: #434B5C;\n",
              "      --hover-fill-color: #FFFFFF;\n",
              "      --disabled-bg-color: #3B4455;\n",
              "      --disabled-fill-color: #666;\n",
              "  }\n",
              "\n",
              "  .colab-df-quickchart {\n",
              "    background-color: var(--bg-color);\n",
              "    border: none;\n",
              "    border-radius: 50%;\n",
              "    cursor: pointer;\n",
              "    display: none;\n",
              "    fill: var(--fill-color);\n",
              "    height: 32px;\n",
              "    padding: 0;\n",
              "    width: 32px;\n",
              "  }\n",
              "\n",
              "  .colab-df-quickchart:hover {\n",
              "    background-color: var(--hover-bg-color);\n",
              "    box-shadow: 0 1px 2px rgba(60, 64, 67, 0.3), 0 1px 3px 1px rgba(60, 64, 67, 0.15);\n",
              "    fill: var(--button-hover-fill-color);\n",
              "  }\n",
              "\n",
              "  .colab-df-quickchart-complete:disabled,\n",
              "  .colab-df-quickchart-complete:disabled:hover {\n",
              "    background-color: var(--disabled-bg-color);\n",
              "    fill: var(--disabled-fill-color);\n",
              "    box-shadow: none;\n",
              "  }\n",
              "\n",
              "  .colab-df-spinner {\n",
              "    border: 2px solid var(--fill-color);\n",
              "    border-color: transparent;\n",
              "    border-bottom-color: var(--fill-color);\n",
              "    animation:\n",
              "      spin 1s steps(1) infinite;\n",
              "  }\n",
              "\n",
              "  @keyframes spin {\n",
              "    0% {\n",
              "      border-color: transparent;\n",
              "      border-bottom-color: var(--fill-color);\n",
              "      border-left-color: var(--fill-color);\n",
              "    }\n",
              "    20% {\n",
              "      border-color: transparent;\n",
              "      border-left-color: var(--fill-color);\n",
              "      border-top-color: var(--fill-color);\n",
              "    }\n",
              "    30% {\n",
              "      border-color: transparent;\n",
              "      border-left-color: var(--fill-color);\n",
              "      border-top-color: var(--fill-color);\n",
              "      border-right-color: var(--fill-color);\n",
              "    }\n",
              "    40% {\n",
              "      border-color: transparent;\n",
              "      border-right-color: var(--fill-color);\n",
              "      border-top-color: var(--fill-color);\n",
              "    }\n",
              "    60% {\n",
              "      border-color: transparent;\n",
              "      border-right-color: var(--fill-color);\n",
              "    }\n",
              "    80% {\n",
              "      border-color: transparent;\n",
              "      border-right-color: var(--fill-color);\n",
              "      border-bottom-color: var(--fill-color);\n",
              "    }\n",
              "    90% {\n",
              "      border-color: transparent;\n",
              "      border-bottom-color: var(--fill-color);\n",
              "    }\n",
              "  }\n",
              "</style>\n",
              "\n",
              "  <script>\n",
              "    async function quickchart(key) {\n",
              "      const quickchartButtonEl =\n",
              "        document.querySelector('#' + key + ' button');\n",
              "      quickchartButtonEl.disabled = true;  // To prevent multiple clicks.\n",
              "      quickchartButtonEl.classList.add('colab-df-spinner');\n",
              "      try {\n",
              "        const charts = await google.colab.kernel.invokeFunction(\n",
              "            'suggestCharts', [key], {});\n",
              "      } catch (error) {\n",
              "        console.error('Error during call to suggestCharts:', error);\n",
              "      }\n",
              "      quickchartButtonEl.classList.remove('colab-df-spinner');\n",
              "      quickchartButtonEl.classList.add('colab-df-quickchart-complete');\n",
              "    }\n",
              "    (() => {\n",
              "      let quickchartButtonEl =\n",
              "        document.querySelector('#df-eb79bcec-11cc-4de0-bdb3-f168e7022304 button');\n",
              "      quickchartButtonEl.style.display =\n",
              "        google.colab.kernel.accessAllowed ? 'block' : 'none';\n",
              "    })();\n",
              "  </script>\n",
              "</div>\n",
              "\n",
              "    </div>\n",
              "  </div>\n"
            ],
            "application/vnd.google.colaboratory.intrinsic+json": {
              "type": "dataframe",
              "variable_name": "imdb",
              "summary": "{\n  \"name\": \"imdb\",\n  \"rows\": 10000,\n  \"fields\": [\n    {\n      \"column\": \"review\",\n      \"properties\": {\n        \"dtype\": \"string\",\n        \"num_unique_values\": 9985,\n        \"samples\": [\n          \"This film is so lovingly made you want to be part of it forever. The flics are straight but not without malice, the goods are transparent and evildoers are hardly there. Even the \\\"cabaret\\\" are so naive they'll make you daydream with nostalgia in comparison to anything available on TV. Blier is fine, if a bit one sided. Louis Jouvet is perfect, you just can't have a better copper. He has the best line: \\\"My dad cleaned other people's dirt, and I do the same\\\". Susy Delair is unbearable, but I guess in part it's the songs, wardrobe and hairdo. Simone Renant, on the contrary, makes a great femme fatale, if a bit silent. I didn't realize she may be a lesbian as IMDb user dbdumonteil and others rightly suggest.\",\n          \"This was a fantastically written screenplay when it comes to perceiving things from another perspective. The comedy was timely and not overdone, the acting was generally terrific, and the plot line served a greater purpose of generating misconception when we think about people solely based on their external appearance. The plot twists as the brother/sister character of Amanda Bynes tries to play soccer on the boys team finding instead a new love interest along the way. Tatum Channing is where the real misperception lies and he does a fine job of acting disinterested at first, later coming to realize the most important thing in life is friendship, not attitude.\",\n          \"This is one of the dumbest films, I've ever seen. It rips off nearly ever type of thriller and manages to make a mess of them all.<br /><br />There's not a single good line or character in the whole mess. If there was a plot, it was an afterthought and as far as acting goes, there's nothing good to say so Ill say nothing. I honestly cant understand how this type of nonsense gets produced and actually released, does somebody somewhere not at some stage think, 'Oh my god this really is a load of shite' and call it a day. Its crap like this that has people downloading illegally, the trailer looks like a completely different film, at least if you have download it, you haven't wasted your time or money Don't waste your time, this is painful.\"\n        ],\n        \"semantic_type\": \"\",\n        \"description\": \"\"\n      }\n    },\n    {\n      \"column\": \"sentiment\",\n      \"properties\": {\n        \"dtype\": \"category\",\n        \"num_unique_values\": 2,\n        \"samples\": [\n          \"negative\",\n          \"positive\"\n        ],\n        \"semantic_type\": \"\",\n        \"description\": \"\"\n      }\n    }\n  ]\n}"
            }
          },
          "metadata": {},
          "execution_count": 22
        }
      ]
    },
    {
      "cell_type": "code",
      "source": [
        "  # doc_new = [stemmer.stem(token) for token in doc.split(' ') if token not in stopwords]\n"
      ],
      "metadata": {
        "id": "BZtWbgCqHHuR"
      },
      "execution_count": 23,
      "outputs": []
    },
    {
      "cell_type": "code",
      "source": [
        "import re\n",
        "\n",
        "re.sub('[^a-zA-Z\\s]', '', 'This is NLP course - 1 101 1234567890 ').strip()"
      ],
      "metadata": {
        "colab": {
          "base_uri": "https://localhost:8080/",
          "height": 36
        },
        "id": "JzwRCapLIpaH",
        "outputId": "2745bd55-1b04-4718-cbf0-e25662cb13b7"
      },
      "execution_count": 24,
      "outputs": [
        {
          "output_type": "execute_result",
          "data": {
            "text/plain": [
              "'This is NLP course'"
            ],
            "application/vnd.google.colaboratory.intrinsic+json": {
              "type": "string"
            }
          },
          "metadata": {},
          "execution_count": 24
        }
      ]
    },
    {
      "cell_type": "code",
      "source": [
        "def process_text(doc):\n",
        "  # Digits removal\n",
        "  doc_new = re.sub('[^a-zA-Z\\s]', '', doc)\n",
        "\n",
        "  # stopword removal\n",
        "  doc_new = [token for token in doc_new.split(' ') if token not in stopwords]\n",
        "\n",
        "  # stemming\n",
        "  doc_new = [stemmer.stem(token) for token in doc_new]\n",
        "  return ' '.join(doc_new)\n",
        "\n",
        "#print(docs.iloc[1])\n",
        "#print('-----')\n",
        "#print(process_text(docs.iloc[1]))"
      ],
      "metadata": {
        "id": "VZmbXfx2FxV-"
      },
      "execution_count": 25,
      "outputs": []
    },
    {
      "cell_type": "markdown",
      "source": [],
      "metadata": {
        "id": "VV4WV4heUdQp"
      }
    },
    {
      "cell_type": "code",
      "source": [
        "docs = imdb['review'].str.lower().apply(process_text)\n",
        "from sklearn.model_selection import train_test_split\n",
        "\n",
        "X_docs_train, X_docs_test, y_train, y_test = train_test_split(\n",
        "    docs,\n",
        "    imdb['sentiment'],\n",
        "    test_size=0.2,\n",
        "    random_state=1\n",
        ")"
      ],
      "metadata": {
        "id": "xJt7Yicyv_rY"
      },
      "execution_count": 26,
      "outputs": []
    },
    {
      "cell_type": "code",
      "source": [
        "from sklearn.feature_extraction.text import CountVectorizer\n",
        "\n",
        "vectorizer = CountVectorizer(min_df=10).fit(X_docs_train)\n",
        "X_dtm_train = vectorizer.transform(X_docs_train)\n",
        "X_dtm_test = vectorizer.transform(X_docs_test)\n",
        "vocab = vectorizer.get_feature_names_out()"
      ],
      "metadata": {
        "id": "6hzgn8P_zu0M"
      },
      "execution_count": 27,
      "outputs": []
    },
    {
      "cell_type": "code",
      "source": [
        "len(vocab)"
      ],
      "metadata": {
        "colab": {
          "base_uri": "https://localhost:8080/"
        },
        "id": "_Ldc41QUMqZq",
        "outputId": "6bb89d3b-c3fc-462a-ed25-035fa8f302ba"
      },
      "execution_count": 28,
      "outputs": [
        {
          "output_type": "execute_result",
          "data": {
            "text/plain": [
              "6925"
            ]
          },
          "metadata": {},
          "execution_count": 28
        }
      ]
    },
    {
      "cell_type": "code",
      "source": [
        "X_dtm_train"
      ],
      "metadata": {
        "colab": {
          "base_uri": "https://localhost:8080/"
        },
        "id": "9y0qv2alMbpU",
        "outputId": "015ac23e-ff79-46cf-8809-35a8f65da8aa"
      },
      "execution_count": 29,
      "outputs": [
        {
          "output_type": "execute_result",
          "data": {
            "text/plain": [
              "<8000x6925 sparse matrix of type '<class 'numpy.int64'>'\n",
              "\twith 681539 stored elements in Compressed Sparse Row format>"
            ]
          },
          "metadata": {},
          "execution_count": 29
        }
      ]
    },
    {
      "cell_type": "code",
      "source": [
        "vocab = vectorizer.get_feature_names_out()\n",
        "#list(vocab[:-200])"
      ],
      "metadata": {
        "id": "LCCAbo0K2GiZ"
      },
      "execution_count": 30,
      "outputs": []
    },
    {
      "cell_type": "code",
      "source": [
        "df_X_dtm_train = pd.DataFrame(X_dtm_train.toarray(), columns=vocab)\n",
        "df_X_dtm_test = pd.DataFrame(X_dtm_test.toarray(), columns=vocab)\n",
        "\n",
        "#df_X_dtm_train"
      ],
      "metadata": {
        "id": "LcbPF55t0sa4"
      },
      "execution_count": 31,
      "outputs": []
    },
    {
      "cell_type": "code",
      "source": [
        "df_X_dtm_train.head"
      ],
      "metadata": {
        "colab": {
          "base_uri": "https://localhost:8080/",
          "height": 186
        },
        "id": "kSAcpR9vSXRe",
        "outputId": "fe0566b3-d341-4eba-88a0-1f3abfc61a55"
      },
      "execution_count": 32,
      "outputs": [
        {
          "output_type": "execute_result",
          "data": {
            "text/plain": [
              "<bound method NDFrame.head of       aaron  abandon  abc  abduct  abil  abl  aboard  abomin  abort  abound  \\\n",
              "0         0        0    0       0     0    0       0       0      0       0   \n",
              "1         0        0    1       0     0    0       0       0      0       0   \n",
              "2         0        0    0       0     0    0       0       0      0       0   \n",
              "3         0        0    0       0     0    0       0       0      0       0   \n",
              "4         0        0    0       0     0    0       0       0      0       0   \n",
              "...     ...      ...  ...     ...   ...  ...     ...     ...    ...     ...   \n",
              "7995      0        0    0       0     1    0       0       0      0       0   \n",
              "7996      0        0    0       0     0    0       0       0      0       0   \n",
              "7997      0        0    0       0     0    0       0       0      0       0   \n",
              "7998      0        0    0       0     0    0       0       0      0       0   \n",
              "7999      0        0    0       0     0    0       0       0      0       0   \n",
              "\n",
              "      ...  yul  yuppi  zane  zani  zealand  zero  zombi  zone  zoo  zoom  \n",
              "0     ...    0      0     0     0        0     0      0     0    0     0  \n",
              "1     ...    0      0     0     0        0     0      0     0    0     0  \n",
              "2     ...    0      0     0     0        0     0      0     1    0     0  \n",
              "3     ...    0      0     0     0        0     0      0     0    0     0  \n",
              "4     ...    0      0     0     0        0     0      0     0    0     0  \n",
              "...   ...  ...    ...   ...   ...      ...   ...    ...   ...  ...   ...  \n",
              "7995  ...    0      0     0     0        0     0      0     0    0     0  \n",
              "7996  ...    0      0     0     0        0     0      0     0    0     0  \n",
              "7997  ...    0      0     0     0        0     0      0     0    0     0  \n",
              "7998  ...    0      0     0     0        0     0      0     0    0     0  \n",
              "7999  ...    0      0     0     0        0     0      0     0    0     0  \n",
              "\n",
              "[8000 rows x 6925 columns]>"
            ],
            "text/html": [
              "<div style=\"max-width:800px; border: 1px solid var(--colab-border-color);\"><style>\n",
              "      pre.function-repr-contents {\n",
              "        overflow-x: auto;\n",
              "        padding: 8px 12px;\n",
              "        max-height: 500px;\n",
              "      }\n",
              "\n",
              "      pre.function-repr-contents.function-repr-contents-collapsed {\n",
              "        cursor: pointer;\n",
              "        max-height: 100px;\n",
              "      }\n",
              "    </style>\n",
              "    <pre style=\"white-space: initial; background:\n",
              "         var(--colab-secondary-surface-color); padding: 8px 12px;\n",
              "         border-bottom: 1px solid var(--colab-border-color);\"><b>pandas.core.generic.NDFrame.head</b><br/>def head(n: int=5) -&gt; Self</pre><pre class=\"function-repr-contents function-repr-contents-collapsed\" style=\"\"><a class=\"filepath\" style=\"display:none\" href=\"#\">/usr/local/lib/python3.10/dist-packages/pandas/core/generic.py</a>Return the first `n` rows.\n",
              "\n",
              "This function returns the first `n` rows for the object based\n",
              "on position. It is useful for quickly testing if your object\n",
              "has the right type of data in it.\n",
              "\n",
              "For negative values of `n`, this function returns all rows except\n",
              "the last `|n|` rows, equivalent to ``df[:n]``.\n",
              "\n",
              "If n is larger than the number of rows, this function returns all rows.\n",
              "\n",
              "Parameters\n",
              "----------\n",
              "n : int, default 5\n",
              "    Number of rows to select.\n",
              "\n",
              "Returns\n",
              "-------\n",
              "same type as caller\n",
              "    The first `n` rows of the caller object.\n",
              "\n",
              "See Also\n",
              "--------\n",
              "DataFrame.tail: Returns the last `n` rows.\n",
              "\n",
              "Examples\n",
              "--------\n",
              "&gt;&gt;&gt; df = pd.DataFrame({&#x27;animal&#x27;: [&#x27;alligator&#x27;, &#x27;bee&#x27;, &#x27;falcon&#x27;, &#x27;lion&#x27;,\n",
              "...                    &#x27;monkey&#x27;, &#x27;parrot&#x27;, &#x27;shark&#x27;, &#x27;whale&#x27;, &#x27;zebra&#x27;]})\n",
              "&gt;&gt;&gt; df\n",
              "      animal\n",
              "0  alligator\n",
              "1        bee\n",
              "2     falcon\n",
              "3       lion\n",
              "4     monkey\n",
              "5     parrot\n",
              "6      shark\n",
              "7      whale\n",
              "8      zebra\n",
              "\n",
              "Viewing the first 5 lines\n",
              "\n",
              "&gt;&gt;&gt; df.head()\n",
              "      animal\n",
              "0  alligator\n",
              "1        bee\n",
              "2     falcon\n",
              "3       lion\n",
              "4     monkey\n",
              "\n",
              "Viewing the first `n` lines (three in this case)\n",
              "\n",
              "&gt;&gt;&gt; df.head(3)\n",
              "      animal\n",
              "0  alligator\n",
              "1        bee\n",
              "2     falcon\n",
              "\n",
              "For negative values of `n`\n",
              "\n",
              "&gt;&gt;&gt; df.head(-3)\n",
              "      animal\n",
              "0  alligator\n",
              "1        bee\n",
              "2     falcon\n",
              "3       lion\n",
              "4     monkey\n",
              "5     parrot</pre>\n",
              "      <script>\n",
              "      if (google.colab.kernel.accessAllowed && google.colab.files && google.colab.files.view) {\n",
              "        for (const element of document.querySelectorAll('.filepath')) {\n",
              "          element.style.display = 'block'\n",
              "          element.onclick = (event) => {\n",
              "            event.preventDefault();\n",
              "            event.stopPropagation();\n",
              "            google.colab.files.view(element.textContent, 5818);\n",
              "          };\n",
              "        }\n",
              "      }\n",
              "      for (const element of document.querySelectorAll('.function-repr-contents')) {\n",
              "        element.onclick = (event) => {\n",
              "          event.preventDefault();\n",
              "          event.stopPropagation();\n",
              "          element.classList.toggle('function-repr-contents-collapsed');\n",
              "        };\n",
              "      }\n",
              "      </script>\n",
              "      </div>"
            ]
          },
          "metadata": {},
          "execution_count": 32
        }
      ]
    },
    {
      "cell_type": "code",
      "source": [
        "from sklearn.naive_bayes import MultinomialNB\n",
        "\n",
        "model = MultinomialNB().fit(df_X_dtm_train, y_train)\n",
        "y_test_pred = model.predict(df_X_dtm_test)\n",
        "y_test_pred"
      ],
      "metadata": {
        "colab": {
          "base_uri": "https://localhost:8080/"
        },
        "id": "ATaddPXNQZE9",
        "outputId": "760ddb67-a31f-4151-a139-858e2a9b50bb"
      },
      "execution_count": 33,
      "outputs": [
        {
          "output_type": "execute_result",
          "data": {
            "text/plain": [
              "array(['positive', 'negative', 'negative', ..., 'negative', 'positive',\n",
              "       'negative'], dtype='<U8')"
            ]
          },
          "metadata": {},
          "execution_count": 33
        }
      ]
    },
    {
      "cell_type": "code",
      "source": [
        "from sklearn.metrics import accuracy_score\n",
        "accuracy_score(y_test, y_test_pred)"
      ],
      "metadata": {
        "colab": {
          "base_uri": "https://localhost:8080/"
        },
        "id": "xhbMevtxRO8t",
        "outputId": "3cf75159-cb82-4179-8feb-66c7034ea4ee"
      },
      "execution_count": 34,
      "outputs": [
        {
          "output_type": "execute_result",
          "data": {
            "text/plain": [
              "0.8255"
            ]
          },
          "metadata": {},
          "execution_count": 34
        }
      ]
    },
    {
      "cell_type": "markdown",
      "source": [
        "### TF-IDF\n",
        "- Term Frequency - Inverse Document Frequency"
      ],
      "metadata": {
        "id": "lu_e7uYKSyyd"
      }
    },
    {
      "cell_type": "code",
      "source": [
        "from sklearn.feature_extraction.text import TfidfVectorizer"
      ],
      "metadata": {
        "id": "5B09M4jYSyEn"
      },
      "execution_count": 35,
      "outputs": []
    },
    {
      "cell_type": "code",
      "source": [
        "tfidf_vectorizer = TfidfVectorizer(min_df=10).fit(X_docs_train)\n",
        "X_dtm_train = tfidf_vectorizer.transform(X_docs_train)\n",
        "X_dtm_test = tfidf_vectorizer.transform(X_docs_test)\n",
        "vocab = tfidf_vectorizer.get_feature_names_out()"
      ],
      "metadata": {
        "id": "bBsF1L4GZcLD"
      },
      "execution_count": 36,
      "outputs": []
    },
    {
      "cell_type": "code",
      "source": [
        "df_X_dtm_train = pd.DataFrame(X_dtm_train.toarray(), columns=vocab)\n",
        "df_X_dtm_test = pd.DataFrame(X_dtm_test.toarray(), columns=vocab)"
      ],
      "metadata": {
        "id": "YmQVelONZsRX"
      },
      "execution_count": 37,
      "outputs": []
    },
    {
      "cell_type": "code",
      "source": [
        "df_X_dtm_train"
      ],
      "metadata": {
        "colab": {
          "base_uri": "https://localhost:8080/",
          "height": 423
        },
        "id": "dj5GTKgZZtGY",
        "outputId": "99d6207b-ae16-4389-caa0-b895ebca4ed5"
      },
      "execution_count": 38,
      "outputs": [
        {
          "output_type": "execute_result",
          "data": {
            "text/plain": [
              "      aaron  abandon      abc  abduct      abil  abl  aboard  abomin  abort  \\\n",
              "0       0.0      0.0  0.00000     0.0  0.000000  0.0     0.0     0.0    0.0   \n",
              "1       0.0      0.0  0.11979     0.0  0.000000  0.0     0.0     0.0    0.0   \n",
              "2       0.0      0.0  0.00000     0.0  0.000000  0.0     0.0     0.0    0.0   \n",
              "3       0.0      0.0  0.00000     0.0  0.000000  0.0     0.0     0.0    0.0   \n",
              "4       0.0      0.0  0.00000     0.0  0.000000  0.0     0.0     0.0    0.0   \n",
              "...     ...      ...      ...     ...       ...  ...     ...     ...    ...   \n",
              "7995    0.0      0.0  0.00000     0.0  0.045636  0.0     0.0     0.0    0.0   \n",
              "7996    0.0      0.0  0.00000     0.0  0.000000  0.0     0.0     0.0    0.0   \n",
              "7997    0.0      0.0  0.00000     0.0  0.000000  0.0     0.0     0.0    0.0   \n",
              "7998    0.0      0.0  0.00000     0.0  0.000000  0.0     0.0     0.0    0.0   \n",
              "7999    0.0      0.0  0.00000     0.0  0.000000  0.0     0.0     0.0    0.0   \n",
              "\n",
              "      abound  ...  yul  yuppi  zane  zani  zealand  zero  zombi      zone  \\\n",
              "0        0.0  ...  0.0    0.0   0.0   0.0      0.0   0.0    0.0  0.000000   \n",
              "1        0.0  ...  0.0    0.0   0.0   0.0      0.0   0.0    0.0  0.000000   \n",
              "2        0.0  ...  0.0    0.0   0.0   0.0      0.0   0.0    0.0  0.148885   \n",
              "3        0.0  ...  0.0    0.0   0.0   0.0      0.0   0.0    0.0  0.000000   \n",
              "4        0.0  ...  0.0    0.0   0.0   0.0      0.0   0.0    0.0  0.000000   \n",
              "...      ...  ...  ...    ...   ...   ...      ...   ...    ...       ...   \n",
              "7995     0.0  ...  0.0    0.0   0.0   0.0      0.0   0.0    0.0  0.000000   \n",
              "7996     0.0  ...  0.0    0.0   0.0   0.0      0.0   0.0    0.0  0.000000   \n",
              "7997     0.0  ...  0.0    0.0   0.0   0.0      0.0   0.0    0.0  0.000000   \n",
              "7998     0.0  ...  0.0    0.0   0.0   0.0      0.0   0.0    0.0  0.000000   \n",
              "7999     0.0  ...  0.0    0.0   0.0   0.0      0.0   0.0    0.0  0.000000   \n",
              "\n",
              "      zoo  zoom  \n",
              "0     0.0   0.0  \n",
              "1     0.0   0.0  \n",
              "2     0.0   0.0  \n",
              "3     0.0   0.0  \n",
              "4     0.0   0.0  \n",
              "...   ...   ...  \n",
              "7995  0.0   0.0  \n",
              "7996  0.0   0.0  \n",
              "7997  0.0   0.0  \n",
              "7998  0.0   0.0  \n",
              "7999  0.0   0.0  \n",
              "\n",
              "[8000 rows x 6925 columns]"
            ],
            "text/html": [
              "\n",
              "  <div id=\"df-abd463a2-e3ff-4d55-89fc-14b347b77b3f\" class=\"colab-df-container\">\n",
              "    <div>\n",
              "<style scoped>\n",
              "    .dataframe tbody tr th:only-of-type {\n",
              "        vertical-align: middle;\n",
              "    }\n",
              "\n",
              "    .dataframe tbody tr th {\n",
              "        vertical-align: top;\n",
              "    }\n",
              "\n",
              "    .dataframe thead th {\n",
              "        text-align: right;\n",
              "    }\n",
              "</style>\n",
              "<table border=\"1\" class=\"dataframe\">\n",
              "  <thead>\n",
              "    <tr style=\"text-align: right;\">\n",
              "      <th></th>\n",
              "      <th>aaron</th>\n",
              "      <th>abandon</th>\n",
              "      <th>abc</th>\n",
              "      <th>abduct</th>\n",
              "      <th>abil</th>\n",
              "      <th>abl</th>\n",
              "      <th>aboard</th>\n",
              "      <th>abomin</th>\n",
              "      <th>abort</th>\n",
              "      <th>abound</th>\n",
              "      <th>...</th>\n",
              "      <th>yul</th>\n",
              "      <th>yuppi</th>\n",
              "      <th>zane</th>\n",
              "      <th>zani</th>\n",
              "      <th>zealand</th>\n",
              "      <th>zero</th>\n",
              "      <th>zombi</th>\n",
              "      <th>zone</th>\n",
              "      <th>zoo</th>\n",
              "      <th>zoom</th>\n",
              "    </tr>\n",
              "  </thead>\n",
              "  <tbody>\n",
              "    <tr>\n",
              "      <th>0</th>\n",
              "      <td>0.0</td>\n",
              "      <td>0.0</td>\n",
              "      <td>0.00000</td>\n",
              "      <td>0.0</td>\n",
              "      <td>0.000000</td>\n",
              "      <td>0.0</td>\n",
              "      <td>0.0</td>\n",
              "      <td>0.0</td>\n",
              "      <td>0.0</td>\n",
              "      <td>0.0</td>\n",
              "      <td>...</td>\n",
              "      <td>0.0</td>\n",
              "      <td>0.0</td>\n",
              "      <td>0.0</td>\n",
              "      <td>0.0</td>\n",
              "      <td>0.0</td>\n",
              "      <td>0.0</td>\n",
              "      <td>0.0</td>\n",
              "      <td>0.000000</td>\n",
              "      <td>0.0</td>\n",
              "      <td>0.0</td>\n",
              "    </tr>\n",
              "    <tr>\n",
              "      <th>1</th>\n",
              "      <td>0.0</td>\n",
              "      <td>0.0</td>\n",
              "      <td>0.11979</td>\n",
              "      <td>0.0</td>\n",
              "      <td>0.000000</td>\n",
              "      <td>0.0</td>\n",
              "      <td>0.0</td>\n",
              "      <td>0.0</td>\n",
              "      <td>0.0</td>\n",
              "      <td>0.0</td>\n",
              "      <td>...</td>\n",
              "      <td>0.0</td>\n",
              "      <td>0.0</td>\n",
              "      <td>0.0</td>\n",
              "      <td>0.0</td>\n",
              "      <td>0.0</td>\n",
              "      <td>0.0</td>\n",
              "      <td>0.0</td>\n",
              "      <td>0.000000</td>\n",
              "      <td>0.0</td>\n",
              "      <td>0.0</td>\n",
              "    </tr>\n",
              "    <tr>\n",
              "      <th>2</th>\n",
              "      <td>0.0</td>\n",
              "      <td>0.0</td>\n",
              "      <td>0.00000</td>\n",
              "      <td>0.0</td>\n",
              "      <td>0.000000</td>\n",
              "      <td>0.0</td>\n",
              "      <td>0.0</td>\n",
              "      <td>0.0</td>\n",
              "      <td>0.0</td>\n",
              "      <td>0.0</td>\n",
              "      <td>...</td>\n",
              "      <td>0.0</td>\n",
              "      <td>0.0</td>\n",
              "      <td>0.0</td>\n",
              "      <td>0.0</td>\n",
              "      <td>0.0</td>\n",
              "      <td>0.0</td>\n",
              "      <td>0.0</td>\n",
              "      <td>0.148885</td>\n",
              "      <td>0.0</td>\n",
              "      <td>0.0</td>\n",
              "    </tr>\n",
              "    <tr>\n",
              "      <th>3</th>\n",
              "      <td>0.0</td>\n",
              "      <td>0.0</td>\n",
              "      <td>0.00000</td>\n",
              "      <td>0.0</td>\n",
              "      <td>0.000000</td>\n",
              "      <td>0.0</td>\n",
              "      <td>0.0</td>\n",
              "      <td>0.0</td>\n",
              "      <td>0.0</td>\n",
              "      <td>0.0</td>\n",
              "      <td>...</td>\n",
              "      <td>0.0</td>\n",
              "      <td>0.0</td>\n",
              "      <td>0.0</td>\n",
              "      <td>0.0</td>\n",
              "      <td>0.0</td>\n",
              "      <td>0.0</td>\n",
              "      <td>0.0</td>\n",
              "      <td>0.000000</td>\n",
              "      <td>0.0</td>\n",
              "      <td>0.0</td>\n",
              "    </tr>\n",
              "    <tr>\n",
              "      <th>4</th>\n",
              "      <td>0.0</td>\n",
              "      <td>0.0</td>\n",
              "      <td>0.00000</td>\n",
              "      <td>0.0</td>\n",
              "      <td>0.000000</td>\n",
              "      <td>0.0</td>\n",
              "      <td>0.0</td>\n",
              "      <td>0.0</td>\n",
              "      <td>0.0</td>\n",
              "      <td>0.0</td>\n",
              "      <td>...</td>\n",
              "      <td>0.0</td>\n",
              "      <td>0.0</td>\n",
              "      <td>0.0</td>\n",
              "      <td>0.0</td>\n",
              "      <td>0.0</td>\n",
              "      <td>0.0</td>\n",
              "      <td>0.0</td>\n",
              "      <td>0.000000</td>\n",
              "      <td>0.0</td>\n",
              "      <td>0.0</td>\n",
              "    </tr>\n",
              "    <tr>\n",
              "      <th>...</th>\n",
              "      <td>...</td>\n",
              "      <td>...</td>\n",
              "      <td>...</td>\n",
              "      <td>...</td>\n",
              "      <td>...</td>\n",
              "      <td>...</td>\n",
              "      <td>...</td>\n",
              "      <td>...</td>\n",
              "      <td>...</td>\n",
              "      <td>...</td>\n",
              "      <td>...</td>\n",
              "      <td>...</td>\n",
              "      <td>...</td>\n",
              "      <td>...</td>\n",
              "      <td>...</td>\n",
              "      <td>...</td>\n",
              "      <td>...</td>\n",
              "      <td>...</td>\n",
              "      <td>...</td>\n",
              "      <td>...</td>\n",
              "      <td>...</td>\n",
              "    </tr>\n",
              "    <tr>\n",
              "      <th>7995</th>\n",
              "      <td>0.0</td>\n",
              "      <td>0.0</td>\n",
              "      <td>0.00000</td>\n",
              "      <td>0.0</td>\n",
              "      <td>0.045636</td>\n",
              "      <td>0.0</td>\n",
              "      <td>0.0</td>\n",
              "      <td>0.0</td>\n",
              "      <td>0.0</td>\n",
              "      <td>0.0</td>\n",
              "      <td>...</td>\n",
              "      <td>0.0</td>\n",
              "      <td>0.0</td>\n",
              "      <td>0.0</td>\n",
              "      <td>0.0</td>\n",
              "      <td>0.0</td>\n",
              "      <td>0.0</td>\n",
              "      <td>0.0</td>\n",
              "      <td>0.000000</td>\n",
              "      <td>0.0</td>\n",
              "      <td>0.0</td>\n",
              "    </tr>\n",
              "    <tr>\n",
              "      <th>7996</th>\n",
              "      <td>0.0</td>\n",
              "      <td>0.0</td>\n",
              "      <td>0.00000</td>\n",
              "      <td>0.0</td>\n",
              "      <td>0.000000</td>\n",
              "      <td>0.0</td>\n",
              "      <td>0.0</td>\n",
              "      <td>0.0</td>\n",
              "      <td>0.0</td>\n",
              "      <td>0.0</td>\n",
              "      <td>...</td>\n",
              "      <td>0.0</td>\n",
              "      <td>0.0</td>\n",
              "      <td>0.0</td>\n",
              "      <td>0.0</td>\n",
              "      <td>0.0</td>\n",
              "      <td>0.0</td>\n",
              "      <td>0.0</td>\n",
              "      <td>0.000000</td>\n",
              "      <td>0.0</td>\n",
              "      <td>0.0</td>\n",
              "    </tr>\n",
              "    <tr>\n",
              "      <th>7997</th>\n",
              "      <td>0.0</td>\n",
              "      <td>0.0</td>\n",
              "      <td>0.00000</td>\n",
              "      <td>0.0</td>\n",
              "      <td>0.000000</td>\n",
              "      <td>0.0</td>\n",
              "      <td>0.0</td>\n",
              "      <td>0.0</td>\n",
              "      <td>0.0</td>\n",
              "      <td>0.0</td>\n",
              "      <td>...</td>\n",
              "      <td>0.0</td>\n",
              "      <td>0.0</td>\n",
              "      <td>0.0</td>\n",
              "      <td>0.0</td>\n",
              "      <td>0.0</td>\n",
              "      <td>0.0</td>\n",
              "      <td>0.0</td>\n",
              "      <td>0.000000</td>\n",
              "      <td>0.0</td>\n",
              "      <td>0.0</td>\n",
              "    </tr>\n",
              "    <tr>\n",
              "      <th>7998</th>\n",
              "      <td>0.0</td>\n",
              "      <td>0.0</td>\n",
              "      <td>0.00000</td>\n",
              "      <td>0.0</td>\n",
              "      <td>0.000000</td>\n",
              "      <td>0.0</td>\n",
              "      <td>0.0</td>\n",
              "      <td>0.0</td>\n",
              "      <td>0.0</td>\n",
              "      <td>0.0</td>\n",
              "      <td>...</td>\n",
              "      <td>0.0</td>\n",
              "      <td>0.0</td>\n",
              "      <td>0.0</td>\n",
              "      <td>0.0</td>\n",
              "      <td>0.0</td>\n",
              "      <td>0.0</td>\n",
              "      <td>0.0</td>\n",
              "      <td>0.000000</td>\n",
              "      <td>0.0</td>\n",
              "      <td>0.0</td>\n",
              "    </tr>\n",
              "    <tr>\n",
              "      <th>7999</th>\n",
              "      <td>0.0</td>\n",
              "      <td>0.0</td>\n",
              "      <td>0.00000</td>\n",
              "      <td>0.0</td>\n",
              "      <td>0.000000</td>\n",
              "      <td>0.0</td>\n",
              "      <td>0.0</td>\n",
              "      <td>0.0</td>\n",
              "      <td>0.0</td>\n",
              "      <td>0.0</td>\n",
              "      <td>...</td>\n",
              "      <td>0.0</td>\n",
              "      <td>0.0</td>\n",
              "      <td>0.0</td>\n",
              "      <td>0.0</td>\n",
              "      <td>0.0</td>\n",
              "      <td>0.0</td>\n",
              "      <td>0.0</td>\n",
              "      <td>0.000000</td>\n",
              "      <td>0.0</td>\n",
              "      <td>0.0</td>\n",
              "    </tr>\n",
              "  </tbody>\n",
              "</table>\n",
              "<p>8000 rows × 6925 columns</p>\n",
              "</div>\n",
              "    <div class=\"colab-df-buttons\">\n",
              "\n",
              "  <div class=\"colab-df-container\">\n",
              "    <button class=\"colab-df-convert\" onclick=\"convertToInteractive('df-abd463a2-e3ff-4d55-89fc-14b347b77b3f')\"\n",
              "            title=\"Convert this dataframe to an interactive table.\"\n",
              "            style=\"display:none;\">\n",
              "\n",
              "  <svg xmlns=\"http://www.w3.org/2000/svg\" height=\"24px\" viewBox=\"0 -960 960 960\">\n",
              "    <path d=\"M120-120v-720h720v720H120Zm60-500h600v-160H180v160Zm220 220h160v-160H400v160Zm0 220h160v-160H400v160ZM180-400h160v-160H180v160Zm440 0h160v-160H620v160ZM180-180h160v-160H180v160Zm440 0h160v-160H620v160Z\"/>\n",
              "  </svg>\n",
              "    </button>\n",
              "\n",
              "  <style>\n",
              "    .colab-df-container {\n",
              "      display:flex;\n",
              "      gap: 12px;\n",
              "    }\n",
              "\n",
              "    .colab-df-convert {\n",
              "      background-color: #E8F0FE;\n",
              "      border: none;\n",
              "      border-radius: 50%;\n",
              "      cursor: pointer;\n",
              "      display: none;\n",
              "      fill: #1967D2;\n",
              "      height: 32px;\n",
              "      padding: 0 0 0 0;\n",
              "      width: 32px;\n",
              "    }\n",
              "\n",
              "    .colab-df-convert:hover {\n",
              "      background-color: #E2EBFA;\n",
              "      box-shadow: 0px 1px 2px rgba(60, 64, 67, 0.3), 0px 1px 3px 1px rgba(60, 64, 67, 0.15);\n",
              "      fill: #174EA6;\n",
              "    }\n",
              "\n",
              "    .colab-df-buttons div {\n",
              "      margin-bottom: 4px;\n",
              "    }\n",
              "\n",
              "    [theme=dark] .colab-df-convert {\n",
              "      background-color: #3B4455;\n",
              "      fill: #D2E3FC;\n",
              "    }\n",
              "\n",
              "    [theme=dark] .colab-df-convert:hover {\n",
              "      background-color: #434B5C;\n",
              "      box-shadow: 0px 1px 3px 1px rgba(0, 0, 0, 0.15);\n",
              "      filter: drop-shadow(0px 1px 2px rgba(0, 0, 0, 0.3));\n",
              "      fill: #FFFFFF;\n",
              "    }\n",
              "  </style>\n",
              "\n",
              "    <script>\n",
              "      const buttonEl =\n",
              "        document.querySelector('#df-abd463a2-e3ff-4d55-89fc-14b347b77b3f button.colab-df-convert');\n",
              "      buttonEl.style.display =\n",
              "        google.colab.kernel.accessAllowed ? 'block' : 'none';\n",
              "\n",
              "      async function convertToInteractive(key) {\n",
              "        const element = document.querySelector('#df-abd463a2-e3ff-4d55-89fc-14b347b77b3f');\n",
              "        const dataTable =\n",
              "          await google.colab.kernel.invokeFunction('convertToInteractive',\n",
              "                                                    [key], {});\n",
              "        if (!dataTable) return;\n",
              "\n",
              "        const docLinkHtml = 'Like what you see? Visit the ' +\n",
              "          '<a target=\"_blank\" href=https://colab.research.google.com/notebooks/data_table.ipynb>data table notebook</a>'\n",
              "          + ' to learn more about interactive tables.';\n",
              "        element.innerHTML = '';\n",
              "        dataTable['output_type'] = 'display_data';\n",
              "        await google.colab.output.renderOutput(dataTable, element);\n",
              "        const docLink = document.createElement('div');\n",
              "        docLink.innerHTML = docLinkHtml;\n",
              "        element.appendChild(docLink);\n",
              "      }\n",
              "    </script>\n",
              "  </div>\n",
              "\n",
              "\n",
              "<div id=\"df-1ee66336-60bb-4994-bc7a-a4ebd2ee30e5\">\n",
              "  <button class=\"colab-df-quickchart\" onclick=\"quickchart('df-1ee66336-60bb-4994-bc7a-a4ebd2ee30e5')\"\n",
              "            title=\"Suggest charts\"\n",
              "            style=\"display:none;\">\n",
              "\n",
              "<svg xmlns=\"http://www.w3.org/2000/svg\" height=\"24px\"viewBox=\"0 0 24 24\"\n",
              "     width=\"24px\">\n",
              "    <g>\n",
              "        <path d=\"M19 3H5c-1.1 0-2 .9-2 2v14c0 1.1.9 2 2 2h14c1.1 0 2-.9 2-2V5c0-1.1-.9-2-2-2zM9 17H7v-7h2v7zm4 0h-2V7h2v10zm4 0h-2v-4h2v4z\"/>\n",
              "    </g>\n",
              "</svg>\n",
              "  </button>\n",
              "\n",
              "<style>\n",
              "  .colab-df-quickchart {\n",
              "      --bg-color: #E8F0FE;\n",
              "      --fill-color: #1967D2;\n",
              "      --hover-bg-color: #E2EBFA;\n",
              "      --hover-fill-color: #174EA6;\n",
              "      --disabled-fill-color: #AAA;\n",
              "      --disabled-bg-color: #DDD;\n",
              "  }\n",
              "\n",
              "  [theme=dark] .colab-df-quickchart {\n",
              "      --bg-color: #3B4455;\n",
              "      --fill-color: #D2E3FC;\n",
              "      --hover-bg-color: #434B5C;\n",
              "      --hover-fill-color: #FFFFFF;\n",
              "      --disabled-bg-color: #3B4455;\n",
              "      --disabled-fill-color: #666;\n",
              "  }\n",
              "\n",
              "  .colab-df-quickchart {\n",
              "    background-color: var(--bg-color);\n",
              "    border: none;\n",
              "    border-radius: 50%;\n",
              "    cursor: pointer;\n",
              "    display: none;\n",
              "    fill: var(--fill-color);\n",
              "    height: 32px;\n",
              "    padding: 0;\n",
              "    width: 32px;\n",
              "  }\n",
              "\n",
              "  .colab-df-quickchart:hover {\n",
              "    background-color: var(--hover-bg-color);\n",
              "    box-shadow: 0 1px 2px rgba(60, 64, 67, 0.3), 0 1px 3px 1px rgba(60, 64, 67, 0.15);\n",
              "    fill: var(--button-hover-fill-color);\n",
              "  }\n",
              "\n",
              "  .colab-df-quickchart-complete:disabled,\n",
              "  .colab-df-quickchart-complete:disabled:hover {\n",
              "    background-color: var(--disabled-bg-color);\n",
              "    fill: var(--disabled-fill-color);\n",
              "    box-shadow: none;\n",
              "  }\n",
              "\n",
              "  .colab-df-spinner {\n",
              "    border: 2px solid var(--fill-color);\n",
              "    border-color: transparent;\n",
              "    border-bottom-color: var(--fill-color);\n",
              "    animation:\n",
              "      spin 1s steps(1) infinite;\n",
              "  }\n",
              "\n",
              "  @keyframes spin {\n",
              "    0% {\n",
              "      border-color: transparent;\n",
              "      border-bottom-color: var(--fill-color);\n",
              "      border-left-color: var(--fill-color);\n",
              "    }\n",
              "    20% {\n",
              "      border-color: transparent;\n",
              "      border-left-color: var(--fill-color);\n",
              "      border-top-color: var(--fill-color);\n",
              "    }\n",
              "    30% {\n",
              "      border-color: transparent;\n",
              "      border-left-color: var(--fill-color);\n",
              "      border-top-color: var(--fill-color);\n",
              "      border-right-color: var(--fill-color);\n",
              "    }\n",
              "    40% {\n",
              "      border-color: transparent;\n",
              "      border-right-color: var(--fill-color);\n",
              "      border-top-color: var(--fill-color);\n",
              "    }\n",
              "    60% {\n",
              "      border-color: transparent;\n",
              "      border-right-color: var(--fill-color);\n",
              "    }\n",
              "    80% {\n",
              "      border-color: transparent;\n",
              "      border-right-color: var(--fill-color);\n",
              "      border-bottom-color: var(--fill-color);\n",
              "    }\n",
              "    90% {\n",
              "      border-color: transparent;\n",
              "      border-bottom-color: var(--fill-color);\n",
              "    }\n",
              "  }\n",
              "</style>\n",
              "\n",
              "  <script>\n",
              "    async function quickchart(key) {\n",
              "      const quickchartButtonEl =\n",
              "        document.querySelector('#' + key + ' button');\n",
              "      quickchartButtonEl.disabled = true;  // To prevent multiple clicks.\n",
              "      quickchartButtonEl.classList.add('colab-df-spinner');\n",
              "      try {\n",
              "        const charts = await google.colab.kernel.invokeFunction(\n",
              "            'suggestCharts', [key], {});\n",
              "      } catch (error) {\n",
              "        console.error('Error during call to suggestCharts:', error);\n",
              "      }\n",
              "      quickchartButtonEl.classList.remove('colab-df-spinner');\n",
              "      quickchartButtonEl.classList.add('colab-df-quickchart-complete');\n",
              "    }\n",
              "    (() => {\n",
              "      let quickchartButtonEl =\n",
              "        document.querySelector('#df-1ee66336-60bb-4994-bc7a-a4ebd2ee30e5 button');\n",
              "      quickchartButtonEl.style.display =\n",
              "        google.colab.kernel.accessAllowed ? 'block' : 'none';\n",
              "    })();\n",
              "  </script>\n",
              "</div>\n",
              "\n",
              "  <div id=\"id_99b208d4-8418-4a46-afd7-7e69ee93c6f9\">\n",
              "    <style>\n",
              "      .colab-df-generate {\n",
              "        background-color: #E8F0FE;\n",
              "        border: none;\n",
              "        border-radius: 50%;\n",
              "        cursor: pointer;\n",
              "        display: none;\n",
              "        fill: #1967D2;\n",
              "        height: 32px;\n",
              "        padding: 0 0 0 0;\n",
              "        width: 32px;\n",
              "      }\n",
              "\n",
              "      .colab-df-generate:hover {\n",
              "        background-color: #E2EBFA;\n",
              "        box-shadow: 0px 1px 2px rgba(60, 64, 67, 0.3), 0px 1px 3px 1px rgba(60, 64, 67, 0.15);\n",
              "        fill: #174EA6;\n",
              "      }\n",
              "\n",
              "      [theme=dark] .colab-df-generate {\n",
              "        background-color: #3B4455;\n",
              "        fill: #D2E3FC;\n",
              "      }\n",
              "\n",
              "      [theme=dark] .colab-df-generate:hover {\n",
              "        background-color: #434B5C;\n",
              "        box-shadow: 0px 1px 3px 1px rgba(0, 0, 0, 0.15);\n",
              "        filter: drop-shadow(0px 1px 2px rgba(0, 0, 0, 0.3));\n",
              "        fill: #FFFFFF;\n",
              "      }\n",
              "    </style>\n",
              "    <button class=\"colab-df-generate\" onclick=\"generateWithVariable('df_X_dtm_train')\"\n",
              "            title=\"Generate code using this dataframe.\"\n",
              "            style=\"display:none;\">\n",
              "\n",
              "  <svg xmlns=\"http://www.w3.org/2000/svg\" height=\"24px\"viewBox=\"0 0 24 24\"\n",
              "       width=\"24px\">\n",
              "    <path d=\"M7,19H8.4L18.45,9,17,7.55,7,17.6ZM5,21V16.75L18.45,3.32a2,2,0,0,1,2.83,0l1.4,1.43a1.91,1.91,0,0,1,.58,1.4,1.91,1.91,0,0,1-.58,1.4L9.25,21ZM18.45,9,17,7.55Zm-12,3A5.31,5.31,0,0,0,4.9,8.1,5.31,5.31,0,0,0,1,6.5,5.31,5.31,0,0,0,4.9,4.9,5.31,5.31,0,0,0,6.5,1,5.31,5.31,0,0,0,8.1,4.9,5.31,5.31,0,0,0,12,6.5,5.46,5.46,0,0,0,6.5,12Z\"/>\n",
              "  </svg>\n",
              "    </button>\n",
              "    <script>\n",
              "      (() => {\n",
              "      const buttonEl =\n",
              "        document.querySelector('#id_99b208d4-8418-4a46-afd7-7e69ee93c6f9 button.colab-df-generate');\n",
              "      buttonEl.style.display =\n",
              "        google.colab.kernel.accessAllowed ? 'block' : 'none';\n",
              "\n",
              "      buttonEl.onclick = () => {\n",
              "        google.colab.notebook.generateWithVariable('df_X_dtm_train');\n",
              "      }\n",
              "      })();\n",
              "    </script>\n",
              "  </div>\n",
              "\n",
              "    </div>\n",
              "  </div>\n"
            ],
            "application/vnd.google.colaboratory.intrinsic+json": {
              "type": "dataframe",
              "variable_name": "df_X_dtm_train"
            }
          },
          "metadata": {},
          "execution_count": 38
        }
      ]
    },
    {
      "cell_type": "markdown",
      "source": [
        "### Disadvantages of DTM\n",
        "- Sparse matrix\n",
        "- High dimension data\n",
        "- Doesn't consider context in which words are appearing\n",
        "- Vectors are not reusable for other corpus"
      ],
      "metadata": {
        "id": "ZaIt9mRogeev"
      }
    },
    {
      "cell_type": "code",
      "source": [
        "import gensim"
      ],
      "metadata": {
        "id": "sdy2zZWnjjxY"
      },
      "execution_count": 39,
      "outputs": []
    },
    {
      "cell_type": "code",
      "source": [
        "#import gensim.downloader\n",
        "#glove_vectors = gensim.downloader.load('glove-twitter-25')"
      ],
      "metadata": {
        "id": "J4CB3n1ojl34"
      },
      "execution_count": 40,
      "outputs": []
    },
    {
      "cell_type": "code",
      "source": [
        "#glove_vectors['computer']"
      ],
      "metadata": {
        "id": "2CY4T5WojzYz"
      },
      "execution_count": 41,
      "outputs": []
    },
    {
      "cell_type": "code",
      "source": [
        "import gensim.downloader as api\n",
        "embedding = api.load('word2vec-google-news-300')"
      ],
      "metadata": {
        "id": "C6KzcA0N1iwR",
        "outputId": "da734323-13d2-4b75-d1a0-58efb359d459",
        "colab": {
          "base_uri": "https://localhost:8080/"
        }
      },
      "execution_count": 42,
      "outputs": [
        {
          "output_type": "stream",
          "name": "stdout",
          "text": [
            "[==================================================] 100.0% 1662.8/1662.8MB downloaded\n"
          ]
        }
      ]
    },
    {
      "cell_type": "code",
      "source": [
        "embedding.vectors.shape"
      ],
      "metadata": {
        "colab": {
          "base_uri": "https://localhost:8080/"
        },
        "id": "JGdk6kwrQAQd",
        "outputId": "f8e98d43-a65a-4699-f6cf-e698a65ecac9"
      },
      "execution_count": 43,
      "outputs": [
        {
          "output_type": "execute_result",
          "data": {
            "text/plain": [
              "(3000000, 300)"
            ]
          },
          "metadata": {},
          "execution_count": 43
        }
      ]
    },
    {
      "cell_type": "code",
      "source": [
        "'a' in embedding"
      ],
      "metadata": {
        "colab": {
          "base_uri": "https://localhost:8080/"
        },
        "id": "1xCBhRUrxj7q",
        "outputId": "6fe805c2-24a3-4912-8637-d4f67ce0f653"
      },
      "execution_count": 44,
      "outputs": [
        {
          "output_type": "execute_result",
          "data": {
            "text/plain": [
              "False"
            ]
          },
          "metadata": {},
          "execution_count": 44
        }
      ]
    },
    {
      "cell_type": "code",
      "source": [
        "len(embedding.index_to_key)"
      ],
      "metadata": {
        "colab": {
          "base_uri": "https://localhost:8080/"
        },
        "id": "S8WZNgwvQPDJ",
        "outputId": "7eab6e65-6b94-4bd9-876c-0d4e14a413fe"
      },
      "execution_count": 45,
      "outputs": [
        {
          "output_type": "execute_result",
          "data": {
            "text/plain": [
              "3000000"
            ]
          },
          "metadata": {},
          "execution_count": 45
        }
      ]
    },
    {
      "cell_type": "code",
      "source": [
        "'classroom' in embedding\n",
        "embedding['classroom']"
      ],
      "metadata": {
        "colab": {
          "base_uri": "https://localhost:8080/"
        },
        "id": "AxeduGsKQm-Y",
        "outputId": "0c94359a-0856-4395-83f7-eaf6845dc02b"
      },
      "execution_count": 46,
      "outputs": [
        {
          "output_type": "execute_result",
          "data": {
            "text/plain": [
              "array([ 7.47070312e-02, -1.18164062e-01,  5.48362732e-05,  1.68945312e-01,\n",
              "        2.87109375e-01, -7.91015625e-02,  2.75390625e-01,  1.76239014e-03,\n",
              "        9.96093750e-02, -1.20117188e-01,  3.51562500e-01, -5.05371094e-02,\n",
              "        1.48437500e-01, -1.32812500e-01,  1.00708008e-02,  5.15747070e-03,\n",
              "       -2.63671875e-01, -1.83105469e-02,  1.99218750e-01, -4.83398438e-02,\n",
              "        2.77343750e-01, -4.73022461e-03, -1.06445312e-01,  9.42382812e-02,\n",
              "       -2.06054688e-01, -4.12109375e-01, -6.93359375e-02, -1.27929688e-01,\n",
              "       -1.48437500e-01, -8.00781250e-02, -2.48046875e-01, -2.61718750e-01,\n",
              "       -2.01171875e-01,  1.70898438e-01, -1.96289062e-01, -3.47656250e-01,\n",
              "        1.61132812e-02,  1.00097656e-01,  5.61523438e-02, -5.63964844e-02,\n",
              "       -6.12792969e-02,  1.29882812e-01,  2.51464844e-02,  4.95605469e-02,\n",
              "       -6.17675781e-02,  1.03515625e-01, -4.42504883e-03,  2.36328125e-01,\n",
              "       -7.86132812e-02,  6.98242188e-02, -2.81250000e-01, -3.73046875e-01,\n",
              "       -3.66210938e-02, -1.07910156e-01,  3.10546875e-01,  3.75976562e-02,\n",
              "       -8.10546875e-02,  2.60009766e-02,  1.83593750e-01, -1.50390625e-01,\n",
              "       -7.86132812e-02, -8.25195312e-02,  1.31835938e-01, -8.78906250e-02,\n",
              "        3.93066406e-02,  1.46484375e-01, -7.66601562e-02,  1.12792969e-01,\n",
              "       -3.27148438e-02,  1.17797852e-02,  6.86645508e-03,  2.22656250e-01,\n",
              "        1.53320312e-01,  1.09375000e-01, -2.36328125e-01,  2.75390625e-01,\n",
              "        3.71093750e-01, -1.25976562e-01,  5.98144531e-02, -1.03027344e-01,\n",
              "        7.22656250e-02,  1.38671875e-01, -1.23046875e-01,  1.49414062e-01,\n",
              "        3.51562500e-02, -4.97436523e-03,  1.93359375e-01,  4.35546875e-01,\n",
              "        9.71679688e-02,  7.61718750e-02,  4.41894531e-02, -1.28906250e-01,\n",
              "        5.64575195e-03, -2.77343750e-01,  1.51367188e-01, -7.71484375e-02,\n",
              "        2.04101562e-01,  1.31835938e-01,  7.42187500e-02, -3.58581543e-03,\n",
              "       -1.28906250e-01, -2.09960938e-01, -8.30078125e-02, -2.16796875e-01,\n",
              "       -1.84570312e-01, -1.66992188e-01,  2.23632812e-01, -3.56445312e-02,\n",
              "        2.29492188e-02, -3.55468750e-01, -2.21679688e-01,  4.80957031e-02,\n",
              "       -1.50390625e-01,  1.09375000e-01,  2.51953125e-01, -9.13085938e-02,\n",
              "       -1.17187500e-02, -1.03027344e-01, -8.88671875e-02, -3.80859375e-02,\n",
              "       -3.36914062e-02, -1.86523438e-01, -1.12792969e-01,  1.28906250e-01,\n",
              "       -2.28515625e-01, -1.00585938e-01, -3.67187500e-01,  2.72216797e-02,\n",
              "       -2.23632812e-01,  2.51953125e-01, -1.42578125e-01, -4.19921875e-01,\n",
              "       -1.96289062e-01, -1.05590820e-02,  1.13769531e-01,  1.08398438e-01,\n",
              "        1.79687500e-01, -5.73730469e-02, -1.44531250e-01,  1.32446289e-02,\n",
              "       -3.08593750e-01, -2.16796875e-01,  6.59179688e-02, -1.89453125e-01,\n",
              "       -3.46679688e-02,  3.39355469e-02,  7.47070312e-02,  6.78710938e-02,\n",
              "        6.20117188e-02,  9.17968750e-02,  4.04296875e-01,  4.51660156e-02,\n",
              "       -3.46679688e-02,  1.97265625e-01, -1.54296875e-01,  4.68750000e-02,\n",
              "        1.11816406e-01, -3.82812500e-01, -1.82617188e-01,  5.54199219e-02,\n",
              "       -1.66992188e-01,  2.96875000e-01, -1.66015625e-02, -7.72094727e-03,\n",
              "       -1.07910156e-01,  1.36108398e-02,  5.32226562e-02,  2.03857422e-02,\n",
              "        1.52343750e-01,  1.72851562e-01, -1.81640625e-01,  1.87988281e-02,\n",
              "       -2.40234375e-01, -2.57812500e-01,  7.61718750e-02,  2.21679688e-01,\n",
              "       -1.86523438e-01,  1.45507812e-01, -1.59179688e-01,  1.70898438e-01,\n",
              "       -1.83593750e-01,  1.54296875e-01,  1.49414062e-01,  1.78222656e-02,\n",
              "        1.53320312e-01, -7.12890625e-02,  2.30712891e-02, -8.05664062e-02,\n",
              "        3.41796875e-01,  8.93554688e-02, -1.07910156e-01, -3.76953125e-01,\n",
              "       -1.86767578e-02,  1.12304688e-01, -1.59179688e-01, -3.10058594e-02,\n",
              "        1.22558594e-01, -2.09960938e-01, -1.18164062e-01,  5.24902344e-02,\n",
              "       -2.43164062e-01,  1.50146484e-02,  2.32421875e-01, -2.13867188e-01,\n",
              "       -1.96289062e-01, -2.91015625e-01,  1.45507812e-01, -2.89062500e-01,\n",
              "       -2.85156250e-01, -2.24609375e-01, -5.00488281e-02, -1.97265625e-01,\n",
              "       -1.61132812e-01, -3.32031250e-01,  4.29687500e-02,  2.16796875e-01,\n",
              "        3.71093750e-02,  1.55273438e-01, -6.83593750e-02, -2.07031250e-01,\n",
              "       -1.63085938e-01, -1.40625000e-01,  1.78710938e-01,  5.63964844e-02,\n",
              "       -7.27539062e-02,  3.22265625e-01, -1.11328125e-01,  1.10351562e-01,\n",
              "        2.41210938e-01, -4.55078125e-01,  8.10546875e-02,  1.40625000e-01,\n",
              "       -7.56835938e-02, -1.56250000e-01,  1.95312500e-01, -1.11328125e-01,\n",
              "       -2.97851562e-02,  8.49609375e-02,  1.32812500e-01,  2.28515625e-01,\n",
              "        1.12792969e-01,  1.01562500e-01,  1.81884766e-02, -3.33984375e-01,\n",
              "       -2.37304688e-01, -1.46484375e-01, -3.51562500e-01,  1.00097656e-02,\n",
              "       -1.51367188e-02, -1.00585938e-01, -1.23535156e-01,  1.78710938e-01,\n",
              "        1.35742188e-01,  2.55859375e-01, -1.61132812e-01, -4.72656250e-01,\n",
              "       -2.61230469e-02,  6.03027344e-02,  9.66796875e-02,  2.14843750e-01,\n",
              "       -2.09960938e-01,  1.35742188e-01, -4.19921875e-01, -5.27343750e-02,\n",
              "        1.10839844e-01,  1.25000000e-01,  2.67578125e-01,  1.19628906e-02,\n",
              "       -2.98828125e-01,  1.81640625e-01,  7.03125000e-02,  1.60156250e-01,\n",
              "       -6.54296875e-02,  7.08007812e-02, -7.81250000e-02,  1.83105469e-02,\n",
              "        1.95312500e-01, -1.67968750e-01, -8.54492188e-02, -3.33984375e-01,\n",
              "        6.34765625e-02,  1.02050781e-01,  3.27148438e-02,  1.65039062e-01,\n",
              "       -1.11328125e-01, -7.76367188e-02, -1.59912109e-02,  1.58691406e-02,\n",
              "        1.67968750e-01,  4.51171875e-01, -4.25781250e-01, -8.59375000e-02,\n",
              "       -5.05371094e-02, -9.81445312e-02,  1.10351562e-01,  4.41894531e-02,\n",
              "        6.07910156e-02,  8.83789062e-02,  1.08398438e-01,  1.01562500e-01],\n",
              "      dtype=float32)"
            ]
          },
          "metadata": {},
          "execution_count": 46
        }
      ]
    },
    {
      "cell_type": "code",
      "source": [
        "word1 = 'apple'\n",
        "word2 = 'microsoft'\n",
        "\n",
        "w1_vector = embedding[word1]\n",
        "w2_vector = embedding[word2]\n",
        "\n",
        "from sklearn.metrics.pairwise import cosine_similarity\n",
        "\n",
        "cosine_similarity([w1_vector, w2_vector])"
      ],
      "metadata": {
        "colab": {
          "base_uri": "https://localhost:8080/"
        },
        "id": "rbbROhb62BnW",
        "outputId": "a35aeb32-313b-4bdd-d172-38bd6575e8dc"
      },
      "execution_count": 47,
      "outputs": [
        {
          "output_type": "execute_result",
          "data": {
            "text/plain": [
              "array([[1.        , 0.23841603],\n",
              "       [0.23841603, 0.9999999 ]], dtype=float32)"
            ]
          },
          "metadata": {},
          "execution_count": 47
        }
      ]
    },
    {
      "cell_type": "code",
      "source": [
        "embedding.most_similar('police')"
      ],
      "metadata": {
        "colab": {
          "base_uri": "https://localhost:8080/"
        },
        "id": "lBybYEZs4N2a",
        "outputId": "c9ecc18a-432c-4e71-a1da-382567e78ba5"
      },
      "execution_count": 48,
      "outputs": [
        {
          "output_type": "execute_result",
          "data": {
            "text/plain": [
              "[('Police', 0.803510844707489),\n",
              " ('officers', 0.7243714928627014),\n",
              " ('detectives', 0.7144566774368286),\n",
              " ('cops', 0.6820574402809143),\n",
              " ('poilce', 0.6664624214172363),\n",
              " ('olice', 0.6628237962722778),\n",
              " ('Poilce', 0.6426385641098022),\n",
              " ('poice', 0.6364722847938538),\n",
              " ('po_lice', 0.6272873878479004),\n",
              " ('POlice', 0.6231169700622559)]"
            ]
          },
          "metadata": {},
          "execution_count": 48
        }
      ]
    },
    {
      "cell_type": "code",
      "source": [
        "### Word2vec custom training using Gensim"
      ],
      "metadata": {
        "id": "xZuKFkBURJTb"
      },
      "execution_count": 49,
      "outputs": []
    },
    {
      "cell_type": "code",
      "source": [
        "import pandas as pd\n",
        "reviews_url = 'https://raw.githubusercontent.com/skathirmani/datasets/refs/heads/main/imdb_subset.csv'\n",
        "imdb = pd.read_csv(reviews_url)\n",
        "imdb.shape"
      ],
      "metadata": {
        "id": "uw5voqUTrdgH",
        "colab": {
          "base_uri": "https://localhost:8080/"
        },
        "outputId": "aa53b97d-2f38-43d0-ccaf-4214cbf3cdc0"
      },
      "execution_count": 50,
      "outputs": [
        {
          "output_type": "execute_result",
          "data": {
            "text/plain": [
              "(10000, 2)"
            ]
          },
          "metadata": {},
          "execution_count": 50
        }
      ]
    },
    {
      "cell_type": "code",
      "source": [
        "from gensim.models import Word2Vec"
      ],
      "metadata": {
        "id": "iwXlFKLWVJ10"
      },
      "execution_count": 51,
      "outputs": []
    },
    {
      "cell_type": "code",
      "source": [
        "sample_docs = imdb['review'].head(50)\n",
        "docs_tokens = sample_docs.str.split(' ')"
      ],
      "metadata": {
        "id": "-Veigfs9UkJS"
      },
      "execution_count": 52,
      "outputs": []
    },
    {
      "cell_type": "code",
      "source": [
        "model = Word2Vec(\n",
        "    docs_tokens.values,\n",
        "    vector_size=25,\n",
        "    window=2,\n",
        "    sg=1,\n",
        "    epochs=5,\n",
        "    min_count=1,\n",
        ")"
      ],
      "metadata": {
        "id": "hZBzBv7gVO1v"
      },
      "execution_count": 53,
      "outputs": []
    },
    {
      "cell_type": "code",
      "source": [
        "vocab = model.wv.index_to_key\n",
        "#vocab[:100]"
      ],
      "metadata": {
        "id": "jT7mmOcsWD-H"
      },
      "execution_count": 54,
      "outputs": []
    },
    {
      "cell_type": "code",
      "source": [
        "model.wv['movie']"
      ],
      "metadata": {
        "colab": {
          "base_uri": "https://localhost:8080/"
        },
        "id": "S1vwNENhYUW5",
        "outputId": "ff5bf9ac-0e9b-4d49-9c29-b72e552c36fb"
      },
      "execution_count": 55,
      "outputs": [
        {
          "output_type": "execute_result",
          "data": {
            "text/plain": [
              "array([ 0.00926286, -0.06363863,  0.12289387, -0.08775815, -0.03687071,\n",
              "       -0.07183973,  0.09233452,  0.21236742, -0.21422435, -0.11036409,\n",
              "        0.03617406, -0.00604373,  0.07254342,  0.03878001, -0.1219286 ,\n",
              "        0.20013502,  0.09181435, -0.05172931, -0.1269648 ,  0.07352353,\n",
              "        0.03965838,  0.06480721,  0.16381165,  0.07821596,  0.17180356],\n",
              "      dtype=float32)"
            ]
          },
          "metadata": {},
          "execution_count": 55
        }
      ]
    },
    {
      "cell_type": "code",
      "source": [
        "doc = 'this sentence has multile repeated words Data Data Data'\n",
        "tokens = doc.split(' ')\n",
        "tokens"
      ],
      "metadata": {
        "colab": {
          "base_uri": "https://localhost:8080/"
        },
        "id": "Ko_6jD57YtXF",
        "outputId": "175cfa74-da41-442d-b72d-75ec5126d225"
      },
      "execution_count": 56,
      "outputs": [
        {
          "output_type": "execute_result",
          "data": {
            "text/plain": [
              "['this',\n",
              " 'sentence',\n",
              " 'has',\n",
              " 'multile',\n",
              " 'repeated',\n",
              " 'words',\n",
              " 'Data',\n",
              " 'Data',\n",
              " 'Data']"
            ]
          },
          "metadata": {},
          "execution_count": 56
        }
      ]
    },
    {
      "cell_type": "code",
      "source": [
        "vocab = list(set(tokens))\n",
        "vocab"
      ],
      "metadata": {
        "colab": {
          "base_uri": "https://localhost:8080/"
        },
        "id": "FmhCIykWY_Yh",
        "outputId": "6e181a73-4fec-458b-af6f-67cafe47c2c9"
      },
      "execution_count": 57,
      "outputs": [
        {
          "output_type": "execute_result",
          "data": {
            "text/plain": [
              "['words', 'has', 'multile', 'this', 'Data', 'sentence', 'repeated']"
            ]
          },
          "metadata": {},
          "execution_count": 57
        }
      ]
    },
    {
      "cell_type": "code",
      "source": [
        "from gensim.models import FastText"
      ],
      "metadata": {
        "id": "MGdeHguBagz5"
      },
      "execution_count": 58,
      "outputs": []
    },
    {
      "cell_type": "code",
      "source": [
        "model = FastText(\n",
        "    docs_tokens.values,\n",
        "    vector_size=25,\n",
        "    window=2,\n",
        "    sg=1,\n",
        "    epochs=5,\n",
        "    min_count=1,\n",
        ")"
      ],
      "metadata": {
        "id": "mFNwlgewa6z5"
      },
      "execution_count": 59,
      "outputs": []
    },
    {
      "cell_type": "code",
      "source": [
        "model.wv['movie']"
      ],
      "metadata": {
        "colab": {
          "base_uri": "https://localhost:8080/"
        },
        "id": "ZwGk67YhbC5j",
        "outputId": "22827104-0262-4e85-e27b-5112842f2cc6"
      },
      "execution_count": 60,
      "outputs": [
        {
          "output_type": "execute_result",
          "data": {
            "text/plain": [
              "array([-0.33256367, -0.41703203,  0.21839382,  0.10699055, -0.36405575,\n",
              "       -0.1659276 ,  0.565655  ,  0.38031593, -0.4427175 ,  0.21099307,\n",
              "       -0.12280656, -0.07752819,  0.36958808, -0.1831172 , -0.09382854,\n",
              "        0.21411856,  0.30665705,  0.3864729 , -0.06314138,  0.35174984,\n",
              "        0.11858769, -0.03114149,  0.02783133, -0.17500877,  0.18648943],\n",
              "      dtype=float32)"
            ]
          },
          "metadata": {},
          "execution_count": 60
        }
      ]
    },
    {
      "cell_type": "markdown",
      "source": [
        "## Text classification using WordEmbedding (Keras)"
      ],
      "metadata": {
        "id": "FQHYZPTTbR-Y"
      }
    },
    {
      "cell_type": "code",
      "source": [
        "imdb.head()"
      ],
      "metadata": {
        "colab": {
          "base_uri": "https://localhost:8080/",
          "height": 206
        },
        "id": "UTSBeWWQbfvL",
        "outputId": "677c04df-869e-4466-9498-6caa3df6e721"
      },
      "execution_count": 61,
      "outputs": [
        {
          "output_type": "execute_result",
          "data": {
            "text/plain": [
              "                                              review sentiment\n",
              "0  I can't say that this movie deserves a ten, be...  positive\n",
              "1  Yet again, Madhur Bhandarkar takes you on a ri...  positive\n",
              "2  Angela Lansbury plays Eglantine a middle aged ...  positive\n",
              "3  the tortuous emotional impact is degrading, wh...  negative\n",
              "4  W. Somerset Maugham's Of Human Bondage is supp...  negative"
            ],
            "text/html": [
              "\n",
              "  <div id=\"df-ec651c00-88a7-4de3-929c-ac9a5b10a3f0\" class=\"colab-df-container\">\n",
              "    <div>\n",
              "<style scoped>\n",
              "    .dataframe tbody tr th:only-of-type {\n",
              "        vertical-align: middle;\n",
              "    }\n",
              "\n",
              "    .dataframe tbody tr th {\n",
              "        vertical-align: top;\n",
              "    }\n",
              "\n",
              "    .dataframe thead th {\n",
              "        text-align: right;\n",
              "    }\n",
              "</style>\n",
              "<table border=\"1\" class=\"dataframe\">\n",
              "  <thead>\n",
              "    <tr style=\"text-align: right;\">\n",
              "      <th></th>\n",
              "      <th>review</th>\n",
              "      <th>sentiment</th>\n",
              "    </tr>\n",
              "  </thead>\n",
              "  <tbody>\n",
              "    <tr>\n",
              "      <th>0</th>\n",
              "      <td>I can't say that this movie deserves a ten, be...</td>\n",
              "      <td>positive</td>\n",
              "    </tr>\n",
              "    <tr>\n",
              "      <th>1</th>\n",
              "      <td>Yet again, Madhur Bhandarkar takes you on a ri...</td>\n",
              "      <td>positive</td>\n",
              "    </tr>\n",
              "    <tr>\n",
              "      <th>2</th>\n",
              "      <td>Angela Lansbury plays Eglantine a middle aged ...</td>\n",
              "      <td>positive</td>\n",
              "    </tr>\n",
              "    <tr>\n",
              "      <th>3</th>\n",
              "      <td>the tortuous emotional impact is degrading, wh...</td>\n",
              "      <td>negative</td>\n",
              "    </tr>\n",
              "    <tr>\n",
              "      <th>4</th>\n",
              "      <td>W. Somerset Maugham's Of Human Bondage is supp...</td>\n",
              "      <td>negative</td>\n",
              "    </tr>\n",
              "  </tbody>\n",
              "</table>\n",
              "</div>\n",
              "    <div class=\"colab-df-buttons\">\n",
              "\n",
              "  <div class=\"colab-df-container\">\n",
              "    <button class=\"colab-df-convert\" onclick=\"convertToInteractive('df-ec651c00-88a7-4de3-929c-ac9a5b10a3f0')\"\n",
              "            title=\"Convert this dataframe to an interactive table.\"\n",
              "            style=\"display:none;\">\n",
              "\n",
              "  <svg xmlns=\"http://www.w3.org/2000/svg\" height=\"24px\" viewBox=\"0 -960 960 960\">\n",
              "    <path d=\"M120-120v-720h720v720H120Zm60-500h600v-160H180v160Zm220 220h160v-160H400v160Zm0 220h160v-160H400v160ZM180-400h160v-160H180v160Zm440 0h160v-160H620v160ZM180-180h160v-160H180v160Zm440 0h160v-160H620v160Z\"/>\n",
              "  </svg>\n",
              "    </button>\n",
              "\n",
              "  <style>\n",
              "    .colab-df-container {\n",
              "      display:flex;\n",
              "      gap: 12px;\n",
              "    }\n",
              "\n",
              "    .colab-df-convert {\n",
              "      background-color: #E8F0FE;\n",
              "      border: none;\n",
              "      border-radius: 50%;\n",
              "      cursor: pointer;\n",
              "      display: none;\n",
              "      fill: #1967D2;\n",
              "      height: 32px;\n",
              "      padding: 0 0 0 0;\n",
              "      width: 32px;\n",
              "    }\n",
              "\n",
              "    .colab-df-convert:hover {\n",
              "      background-color: #E2EBFA;\n",
              "      box-shadow: 0px 1px 2px rgba(60, 64, 67, 0.3), 0px 1px 3px 1px rgba(60, 64, 67, 0.15);\n",
              "      fill: #174EA6;\n",
              "    }\n",
              "\n",
              "    .colab-df-buttons div {\n",
              "      margin-bottom: 4px;\n",
              "    }\n",
              "\n",
              "    [theme=dark] .colab-df-convert {\n",
              "      background-color: #3B4455;\n",
              "      fill: #D2E3FC;\n",
              "    }\n",
              "\n",
              "    [theme=dark] .colab-df-convert:hover {\n",
              "      background-color: #434B5C;\n",
              "      box-shadow: 0px 1px 3px 1px rgba(0, 0, 0, 0.15);\n",
              "      filter: drop-shadow(0px 1px 2px rgba(0, 0, 0, 0.3));\n",
              "      fill: #FFFFFF;\n",
              "    }\n",
              "  </style>\n",
              "\n",
              "    <script>\n",
              "      const buttonEl =\n",
              "        document.querySelector('#df-ec651c00-88a7-4de3-929c-ac9a5b10a3f0 button.colab-df-convert');\n",
              "      buttonEl.style.display =\n",
              "        google.colab.kernel.accessAllowed ? 'block' : 'none';\n",
              "\n",
              "      async function convertToInteractive(key) {\n",
              "        const element = document.querySelector('#df-ec651c00-88a7-4de3-929c-ac9a5b10a3f0');\n",
              "        const dataTable =\n",
              "          await google.colab.kernel.invokeFunction('convertToInteractive',\n",
              "                                                    [key], {});\n",
              "        if (!dataTable) return;\n",
              "\n",
              "        const docLinkHtml = 'Like what you see? Visit the ' +\n",
              "          '<a target=\"_blank\" href=https://colab.research.google.com/notebooks/data_table.ipynb>data table notebook</a>'\n",
              "          + ' to learn more about interactive tables.';\n",
              "        element.innerHTML = '';\n",
              "        dataTable['output_type'] = 'display_data';\n",
              "        await google.colab.output.renderOutput(dataTable, element);\n",
              "        const docLink = document.createElement('div');\n",
              "        docLink.innerHTML = docLinkHtml;\n",
              "        element.appendChild(docLink);\n",
              "      }\n",
              "    </script>\n",
              "  </div>\n",
              "\n",
              "\n",
              "<div id=\"df-c6e3f97a-4a72-4b86-a854-6680b7412e10\">\n",
              "  <button class=\"colab-df-quickchart\" onclick=\"quickchart('df-c6e3f97a-4a72-4b86-a854-6680b7412e10')\"\n",
              "            title=\"Suggest charts\"\n",
              "            style=\"display:none;\">\n",
              "\n",
              "<svg xmlns=\"http://www.w3.org/2000/svg\" height=\"24px\"viewBox=\"0 0 24 24\"\n",
              "     width=\"24px\">\n",
              "    <g>\n",
              "        <path d=\"M19 3H5c-1.1 0-2 .9-2 2v14c0 1.1.9 2 2 2h14c1.1 0 2-.9 2-2V5c0-1.1-.9-2-2-2zM9 17H7v-7h2v7zm4 0h-2V7h2v10zm4 0h-2v-4h2v4z\"/>\n",
              "    </g>\n",
              "</svg>\n",
              "  </button>\n",
              "\n",
              "<style>\n",
              "  .colab-df-quickchart {\n",
              "      --bg-color: #E8F0FE;\n",
              "      --fill-color: #1967D2;\n",
              "      --hover-bg-color: #E2EBFA;\n",
              "      --hover-fill-color: #174EA6;\n",
              "      --disabled-fill-color: #AAA;\n",
              "      --disabled-bg-color: #DDD;\n",
              "  }\n",
              "\n",
              "  [theme=dark] .colab-df-quickchart {\n",
              "      --bg-color: #3B4455;\n",
              "      --fill-color: #D2E3FC;\n",
              "      --hover-bg-color: #434B5C;\n",
              "      --hover-fill-color: #FFFFFF;\n",
              "      --disabled-bg-color: #3B4455;\n",
              "      --disabled-fill-color: #666;\n",
              "  }\n",
              "\n",
              "  .colab-df-quickchart {\n",
              "    background-color: var(--bg-color);\n",
              "    border: none;\n",
              "    border-radius: 50%;\n",
              "    cursor: pointer;\n",
              "    display: none;\n",
              "    fill: var(--fill-color);\n",
              "    height: 32px;\n",
              "    padding: 0;\n",
              "    width: 32px;\n",
              "  }\n",
              "\n",
              "  .colab-df-quickchart:hover {\n",
              "    background-color: var(--hover-bg-color);\n",
              "    box-shadow: 0 1px 2px rgba(60, 64, 67, 0.3), 0 1px 3px 1px rgba(60, 64, 67, 0.15);\n",
              "    fill: var(--button-hover-fill-color);\n",
              "  }\n",
              "\n",
              "  .colab-df-quickchart-complete:disabled,\n",
              "  .colab-df-quickchart-complete:disabled:hover {\n",
              "    background-color: var(--disabled-bg-color);\n",
              "    fill: var(--disabled-fill-color);\n",
              "    box-shadow: none;\n",
              "  }\n",
              "\n",
              "  .colab-df-spinner {\n",
              "    border: 2px solid var(--fill-color);\n",
              "    border-color: transparent;\n",
              "    border-bottom-color: var(--fill-color);\n",
              "    animation:\n",
              "      spin 1s steps(1) infinite;\n",
              "  }\n",
              "\n",
              "  @keyframes spin {\n",
              "    0% {\n",
              "      border-color: transparent;\n",
              "      border-bottom-color: var(--fill-color);\n",
              "      border-left-color: var(--fill-color);\n",
              "    }\n",
              "    20% {\n",
              "      border-color: transparent;\n",
              "      border-left-color: var(--fill-color);\n",
              "      border-top-color: var(--fill-color);\n",
              "    }\n",
              "    30% {\n",
              "      border-color: transparent;\n",
              "      border-left-color: var(--fill-color);\n",
              "      border-top-color: var(--fill-color);\n",
              "      border-right-color: var(--fill-color);\n",
              "    }\n",
              "    40% {\n",
              "      border-color: transparent;\n",
              "      border-right-color: var(--fill-color);\n",
              "      border-top-color: var(--fill-color);\n",
              "    }\n",
              "    60% {\n",
              "      border-color: transparent;\n",
              "      border-right-color: var(--fill-color);\n",
              "    }\n",
              "    80% {\n",
              "      border-color: transparent;\n",
              "      border-right-color: var(--fill-color);\n",
              "      border-bottom-color: var(--fill-color);\n",
              "    }\n",
              "    90% {\n",
              "      border-color: transparent;\n",
              "      border-bottom-color: var(--fill-color);\n",
              "    }\n",
              "  }\n",
              "</style>\n",
              "\n",
              "  <script>\n",
              "    async function quickchart(key) {\n",
              "      const quickchartButtonEl =\n",
              "        document.querySelector('#' + key + ' button');\n",
              "      quickchartButtonEl.disabled = true;  // To prevent multiple clicks.\n",
              "      quickchartButtonEl.classList.add('colab-df-spinner');\n",
              "      try {\n",
              "        const charts = await google.colab.kernel.invokeFunction(\n",
              "            'suggestCharts', [key], {});\n",
              "      } catch (error) {\n",
              "        console.error('Error during call to suggestCharts:', error);\n",
              "      }\n",
              "      quickchartButtonEl.classList.remove('colab-df-spinner');\n",
              "      quickchartButtonEl.classList.add('colab-df-quickchart-complete');\n",
              "    }\n",
              "    (() => {\n",
              "      let quickchartButtonEl =\n",
              "        document.querySelector('#df-c6e3f97a-4a72-4b86-a854-6680b7412e10 button');\n",
              "      quickchartButtonEl.style.display =\n",
              "        google.colab.kernel.accessAllowed ? 'block' : 'none';\n",
              "    })();\n",
              "  </script>\n",
              "</div>\n",
              "\n",
              "    </div>\n",
              "  </div>\n"
            ],
            "application/vnd.google.colaboratory.intrinsic+json": {
              "type": "dataframe",
              "variable_name": "imdb",
              "summary": "{\n  \"name\": \"imdb\",\n  \"rows\": 10000,\n  \"fields\": [\n    {\n      \"column\": \"review\",\n      \"properties\": {\n        \"dtype\": \"string\",\n        \"num_unique_values\": 9985,\n        \"samples\": [\n          \"This film is so lovingly made you want to be part of it forever. The flics are straight but not without malice, the goods are transparent and evildoers are hardly there. Even the \\\"cabaret\\\" are so naive they'll make you daydream with nostalgia in comparison to anything available on TV. Blier is fine, if a bit one sided. Louis Jouvet is perfect, you just can't have a better copper. He has the best line: \\\"My dad cleaned other people's dirt, and I do the same\\\". Susy Delair is unbearable, but I guess in part it's the songs, wardrobe and hairdo. Simone Renant, on the contrary, makes a great femme fatale, if a bit silent. I didn't realize she may be a lesbian as IMDb user dbdumonteil and others rightly suggest.\",\n          \"This was a fantastically written screenplay when it comes to perceiving things from another perspective. The comedy was timely and not overdone, the acting was generally terrific, and the plot line served a greater purpose of generating misconception when we think about people solely based on their external appearance. The plot twists as the brother/sister character of Amanda Bynes tries to play soccer on the boys team finding instead a new love interest along the way. Tatum Channing is where the real misperception lies and he does a fine job of acting disinterested at first, later coming to realize the most important thing in life is friendship, not attitude.\",\n          \"This is one of the dumbest films, I've ever seen. It rips off nearly ever type of thriller and manages to make a mess of them all.<br /><br />There's not a single good line or character in the whole mess. If there was a plot, it was an afterthought and as far as acting goes, there's nothing good to say so Ill say nothing. I honestly cant understand how this type of nonsense gets produced and actually released, does somebody somewhere not at some stage think, 'Oh my god this really is a load of shite' and call it a day. Its crap like this that has people downloading illegally, the trailer looks like a completely different film, at least if you have download it, you haven't wasted your time or money Don't waste your time, this is painful.\"\n        ],\n        \"semantic_type\": \"\",\n        \"description\": \"\"\n      }\n    },\n    {\n      \"column\": \"sentiment\",\n      \"properties\": {\n        \"dtype\": \"category\",\n        \"num_unique_values\": 2,\n        \"samples\": [\n          \"negative\",\n          \"positive\"\n        ],\n        \"semantic_type\": \"\",\n        \"description\": \"\"\n      }\n    }\n  ]\n}"
            }
          },
          "metadata": {},
          "execution_count": 61
        }
      ]
    },
    {
      "cell_type": "code",
      "source": [
        "embedding.vectors.shape"
      ],
      "metadata": {
        "colab": {
          "base_uri": "https://localhost:8080/"
        },
        "id": "R87d5Ere7HiV",
        "outputId": "673a2aee-8059-4b1b-b6e9-328d805f1aa9"
      },
      "execution_count": 62,
      "outputs": [
        {
          "output_type": "execute_result",
          "data": {
            "text/plain": [
              "(3000000, 300)"
            ]
          },
          "metadata": {},
          "execution_count": 62
        }
      ]
    },
    {
      "cell_type": "code",
      "source": [
        "import tensorflow as tf\n",
        "from tensorflow.keras.preprocessing.text import Tokenizer\n",
        "from tensorflow.keras.preprocessing.sequence import pad_sequences\n",
        "from sklearn.model_selection import train_test_split"
      ],
      "metadata": {
        "id": "fcp2ewvvb6m8"
      },
      "execution_count": 63,
      "outputs": []
    },
    {
      "cell_type": "code",
      "source": [
        "imdb['sentiment'] = imdb['sentiment'].apply(\n",
        "    lambda v: 1 if v == 'positive' else 0\n",
        ")"
      ],
      "metadata": {
        "id": "N5PFiF95ceJc"
      },
      "execution_count": 64,
      "outputs": []
    },
    {
      "cell_type": "code",
      "source": [
        "train_docs, test_docs, train_y, test_y = train_test_split(\n",
        "    imdb['review'].str.lower(),\n",
        "    imdb['sentiment'],\n",
        "    test_size=0.2,\n",
        "    random_state=1\n",
        ")"
      ],
      "metadata": {
        "id": "eYEeBnaucUZM"
      },
      "execution_count": 65,
      "outputs": []
    },
    {
      "cell_type": "code",
      "source": [
        "tokenizer = Tokenizer()\n",
        "tokenizer.fit_on_texts(train_docs) # Identify unique tokens and assign token ids"
      ],
      "metadata": {
        "id": "fs5sFWIddRrU"
      },
      "execution_count": 66,
      "outputs": []
    },
    {
      "cell_type": "code",
      "source": [
        "#tokenizer.word_index"
      ],
      "metadata": {
        "id": "6Tlmw5_gjKTU"
      },
      "execution_count": 67,
      "outputs": []
    },
    {
      "cell_type": "code",
      "source": [
        "doc = 'i like this movie'\n",
        "doc_tokens = tokenizer.texts_to_sequences([doc])\n",
        "max_doc_length = 3\n",
        "doc_padded = pad_sequences(doc_tokens, padding='post', maxlen=max_doc_length,\n",
        "                           truncating='post')"
      ],
      "metadata": {
        "id": "9BvzJd8oiMD9"
      },
      "execution_count": 68,
      "outputs": []
    },
    {
      "cell_type": "code",
      "source": [
        "#tokenizer.word_index['like']"
      ],
      "metadata": {
        "id": "Pw8Z4ZJNkcbm"
      },
      "execution_count": 69,
      "outputs": []
    },
    {
      "cell_type": "code",
      "source": [
        "vocab_size = len(tokenizer.word_index) + 1\n",
        "vocab_size"
      ],
      "metadata": {
        "colab": {
          "base_uri": "https://localhost:8080/"
        },
        "id": "I2_kIOh7spyB",
        "outputId": "8acc3feb-b07f-4177-dbe4-e7ae41c24b53"
      },
      "execution_count": 70,
      "outputs": [
        {
          "output_type": "execute_result",
          "data": {
            "text/plain": [
              "53879"
            ]
          },
          "metadata": {},
          "execution_count": 70
        }
      ]
    },
    {
      "cell_type": "code",
      "source": [
        "max_doc_length = 200\n",
        "train_sequences = tokenizer.texts_to_sequences(train_docs) # tokenization for training docs\n",
        "test_sequences = tokenizer.texts_to_sequences(test_docs)\n",
        "\n",
        "train_sequences_paded = pad_sequences(train_sequences,\n",
        "                                      padding='post',\n",
        "                                      maxlen=max_doc_length,\n",
        "                                      truncating='post')\n",
        "\n",
        "test_sequences_paded = pad_sequences(test_sequences,\n",
        "                                      padding='post',\n",
        "                                      maxlen=max_doc_length,\n",
        "                                      truncating='post')"
      ],
      "metadata": {
        "id": "VuCL7u15kxmq"
      },
      "execution_count": 71,
      "outputs": []
    },
    {
      "cell_type": "code",
      "source": [
        "import numpy as np\n",
        "embedding_dim = 300"
      ],
      "metadata": {
        "id": "cTKEgITh6BFd"
      },
      "execution_count": 72,
      "outputs": []
    },
    {
      "cell_type": "code",
      "source": [
        "import numpy as np\n",
        "\n",
        "embedding_dim = 300\n",
        "zero_array = list(np.zeros((1,embedding_dim))[0])\n",
        "embeddings_subset = [zero_array]\n",
        "\n",
        "#sample = {'the': 1, 'apple': 2, 'microsoft': 3, 'openai': 4 }\n",
        "for token, token_id in tokenizer.word_index.items():\n",
        "\n",
        "  if token in embedding:\n",
        "    #print('token vector is available in google word2vec')\n",
        "    token_vector = embedding[token]\n",
        "  else:\n",
        "    #print('token vector is not available in google word2vec')\n",
        "    token_vector = zero_array\n",
        "  embeddings_subset.append(token_vector)\n",
        "#embeddings_subset"
      ],
      "metadata": {
        "id": "dpsSJbNoo7Fm"
      },
      "execution_count": 73,
      "outputs": []
    },
    {
      "cell_type": "code",
      "source": [
        "embeddings_subset_array = np.array(embeddings_subset)\n",
        "embeddings_subset_array.shape"
      ],
      "metadata": {
        "colab": {
          "base_uri": "https://localhost:8080/"
        },
        "id": "mEQMrNQ20Z4v",
        "outputId": "b1c4e155-d99f-4dea-c1fd-30d8b134e420"
      },
      "execution_count": 74,
      "outputs": [
        {
          "output_type": "execute_result",
          "data": {
            "text/plain": [
              "(53879, 300)"
            ]
          },
          "metadata": {},
          "execution_count": 74
        }
      ]
    },
    {
      "cell_type": "code",
      "source": [
        "vocab_size = len(tokenizer.word_index) + 1\n",
        "embedding_dim = 300"
      ],
      "metadata": {
        "id": "s78_WBxM3GMT"
      },
      "execution_count": 75,
      "outputs": []
    },
    {
      "cell_type": "code",
      "source": [
        "model = tf.keras.Sequential([\n",
        "    tf.keras.layers.Embedding(\n",
        "        input_dim=vocab_size,\n",
        "        output_dim =embedding_dim,\n",
        "        #weights=embeddings_subset_array,\n",
        "        #trainable=False,\n",
        "    ),\n",
        "    tf.keras.layers.GlobalAveragePooling1D(),\n",
        "    tf.keras.layers.Dense(32, activation='relu'),\n",
        "    tf.keras.layers.Dense(1, activation='softmax')\n",
        "])"
      ],
      "metadata": {
        "id": "42a7ObOe20CZ"
      },
      "execution_count": 76,
      "outputs": []
    },
    {
      "cell_type": "code",
      "source": [
        "tf.__version__"
      ],
      "metadata": {
        "colab": {
          "base_uri": "https://localhost:8080/",
          "height": 36
        },
        "id": "znqvQ7JU4haR",
        "outputId": "0668f39b-b454-4ef5-aed5-c18d855449b6"
      },
      "execution_count": 77,
      "outputs": [
        {
          "output_type": "execute_result",
          "data": {
            "text/plain": [
              "'2.17.0'"
            ],
            "application/vnd.google.colaboratory.intrinsic+json": {
              "type": "string"
            }
          },
          "metadata": {},
          "execution_count": 77
        }
      ]
    },
    {
      "cell_type": "code",
      "source": [
        "model.compile(\n",
        "    optimizer='adam',\n",
        "    loss='binary_crossentropy',\n",
        "    metrics=['accuracy']\n",
        ")"
      ],
      "metadata": {
        "id": "2XR_dIqC4-Ce"
      },
      "execution_count": 78,
      "outputs": []
    },
    {
      "cell_type": "code",
      "source": [
        "history = model.fit(\n",
        "    train_sequences_paded, np.array(train_y),\n",
        "    epochs=2,\n",
        "    validation_data = (test_sequences_paded, np.array(test_y))\n",
        ")"
      ],
      "metadata": {
        "colab": {
          "base_uri": "https://localhost:8080/"
        },
        "id": "ZJmlsPJY5LZ6",
        "outputId": "095aa180-ca2c-4948-baa0-cf997d863418"
      },
      "execution_count": 79,
      "outputs": [
        {
          "output_type": "stream",
          "name": "stdout",
          "text": [
            "Epoch 1/2\n"
          ]
        },
        {
          "output_type": "stream",
          "name": "stderr",
          "text": [
            "/usr/local/lib/python3.10/dist-packages/keras/src/ops/nn.py:545: UserWarning: You are using a softmax over axis -1 of a tensor of shape (32, 1). This axis has size 1. The softmax operation will always return the value 1, which is likely not what you intended. Did you mean to use a sigmoid instead?\n",
            "  warnings.warn(\n"
          ]
        },
        {
          "output_type": "stream",
          "name": "stdout",
          "text": [
            "\u001b[1m250/250\u001b[0m \u001b[32m━━━━━━━━━━━━━━━━━━━━\u001b[0m\u001b[37m\u001b[0m \u001b[1m0s\u001b[0m 290ms/step - accuracy: 0.4858 - loss: 0.6498"
          ]
        },
        {
          "output_type": "stream",
          "name": "stderr",
          "text": [
            "/usr/local/lib/python3.10/dist-packages/keras/src/ops/nn.py:545: UserWarning: You are using a softmax over axis -1 of a tensor of shape (None, 1). This axis has size 1. The softmax operation will always return the value 1, which is likely not what you intended. Did you mean to use a sigmoid instead?\n",
            "  warnings.warn(\n"
          ]
        },
        {
          "output_type": "stream",
          "name": "stdout",
          "text": [
            "\b\b\b\b\b\b\b\b\b\b\b\b\b\b\b\b\b\b\b\b\b\b\b\b\b\b\b\b\b\b\b\b\b\b\b\b\b\b\b\b\b\b\b\b\b\b\b\b\b\b\b\b\b\b\b\b\b\b\b\b\b\b\b\b\b\b\b\b\b\b\b\b\b\b\b\b\r\u001b[1m250/250\u001b[0m \u001b[32m━━━━━━━━━━━━━━━━━━━━\u001b[0m\u001b[37m\u001b[0m \u001b[1m76s\u001b[0m 293ms/step - accuracy: 0.4859 - loss: 0.6495 - val_accuracy: 0.4810 - val_loss: 0.4203\n",
            "Epoch 2/2\n",
            "\u001b[1m250/250\u001b[0m \u001b[32m━━━━━━━━━━━━━━━━━━━━\u001b[0m\u001b[37m\u001b[0m \u001b[1m84s\u001b[0m 301ms/step - accuracy: 0.4947 - loss: 0.3105 - val_accuracy: 0.4810 - val_loss: 0.3793\n"
          ]
        }
      ]
    },
    {
      "cell_type": "code",
      "source": [
        "doc = \"I would like to order two medium pizza\"\n",
        "#Sequential labelling - Entities Prediction\n",
        "# I - Individual\n",
        "# would - No entity\n",
        "# like - No entity\n",
        "# to - No entity\n",
        "# two - Quantity\n",
        "# medium - Measurement\n",
        "# pizza - Food type"
      ],
      "metadata": {
        "id": "gzbe4uTB9eSj"
      },
      "execution_count": 80,
      "outputs": []
    },
    {
      "cell_type": "code",
      "source": [
        "doc = \"I like this movie\"\n",
        "# Language modeling - Predicting next word\n",
        "# I - like\n",
        "# like - this\n",
        "# this - movie\n",
        "# movie - EOS"
      ],
      "metadata": {
        "id": "RND8LbVjYGuP"
      },
      "execution_count": 81,
      "outputs": []
    },
    {
      "cell_type": "markdown",
      "source": [
        "### RNN/LSTM"
      ],
      "metadata": {
        "id": "0Aadpmyx6DdB"
      }
    },
    {
      "cell_type": "code",
      "source": [
        "lstm_model = tf.keras.Sequential([\n",
        "    tf.keras.layers.Embedding(\n",
        "        input_dim=vocab_size,\n",
        "        output_dim =embedding_dim,\n",
        "        #weights=embeddings_subset_array,\n",
        "        #trainable=False,\n",
        "    ),\n",
        "    tf.keras.layers.LSTM(128, return_sequences=False),\n",
        "    tf.keras.layers.Dense(32, activation='relu'),\n",
        "    tf.keras.layers.Dense(1, activation='softmax')\n",
        "])"
      ],
      "metadata": {
        "id": "HmwxTogJ6FiG"
      },
      "execution_count": 82,
      "outputs": []
    },
    {
      "cell_type": "code",
      "source": [
        "lstm_model.compile(\n",
        "    optimizer='adam',\n",
        "    loss='binary_crossentropy',\n",
        "    metrics=['accuracy']\n",
        ")\n",
        "history = lstm_model.fit(\n",
        "    train_sequences_paded, np.array(train_y),\n",
        "    epochs=2,\n",
        "    validation_data = (test_sequences_paded, np.array(test_y))\n",
        ")"
      ],
      "metadata": {
        "colab": {
          "base_uri": "https://localhost:8080/"
        },
        "id": "0dl89Mws6rEK",
        "outputId": "41aa877f-5ec4-4c46-a870-b484b0b1a34d"
      },
      "execution_count": 83,
      "outputs": [
        {
          "output_type": "stream",
          "name": "stdout",
          "text": [
            "Epoch 1/2\n",
            "\u001b[1m250/250\u001b[0m \u001b[32m━━━━━━━━━━━━━━━━━━━━\u001b[0m\u001b[37m\u001b[0m \u001b[1m205s\u001b[0m 797ms/step - accuracy: 0.4974 - loss: 0.6942 - val_accuracy: 0.4810 - val_loss: 0.6881\n",
            "Epoch 2/2\n",
            "\u001b[1m250/250\u001b[0m \u001b[32m━━━━━━━━━━━━━━━━━━━━\u001b[0m\u001b[37m\u001b[0m \u001b[1m158s\u001b[0m 632ms/step - accuracy: 0.4929 - loss: 0.6365 - val_accuracy: 0.4810 - val_loss: 0.6604\n"
          ]
        }
      ]
    },
    {
      "cell_type": "code",
      "source": [
        "import spacy"
      ],
      "metadata": {
        "id": "eG5HeBrs8tjZ"
      },
      "execution_count": 84,
      "outputs": []
    },
    {
      "cell_type": "code",
      "source": [
        "text = 'India won the ICC world cup in 2024 against Australia. Kohli won the man of match'\n",
        "nlp = spacy.load(\"en_core_web_sm\")\n",
        "\n",
        "doc = nlp(text)"
      ],
      "metadata": {
        "id": "B9buixJX9Gxv"
      },
      "execution_count": 85,
      "outputs": []
    },
    {
      "cell_type": "code",
      "source": [
        "for ent in doc.ents:\n",
        "  print(ent.text, ent.label_)"
      ],
      "metadata": {
        "colab": {
          "base_uri": "https://localhost:8080/"
        },
        "id": "14PAOp1n-aPh",
        "outputId": "4b6c8427-44d4-4d68-a7ac-934b70ceb395"
      },
      "execution_count": 86,
      "outputs": [
        {
          "output_type": "stream",
          "name": "stdout",
          "text": [
            "India GPE\n",
            "2024 DATE\n",
            "Australia GPE\n",
            "Kohli PERSON\n"
          ]
        }
      ]
    },
    {
      "cell_type": "code",
      "source": [
        "for token in doc:\n",
        "  print(token, token.lemma_, token.pos_)"
      ],
      "metadata": {
        "colab": {
          "base_uri": "https://localhost:8080/"
        },
        "id": "KWlXGgDs9bu1",
        "outputId": "6f96384f-05be-40b2-9329-4cda03267916"
      },
      "execution_count": 87,
      "outputs": [
        {
          "output_type": "stream",
          "name": "stdout",
          "text": [
            "India India PROPN\n",
            "won win VERB\n",
            "the the DET\n",
            "ICC ICC PROPN\n",
            "world world NOUN\n",
            "cup cup NOUN\n",
            "in in ADP\n",
            "2024 2024 NUM\n",
            "against against ADP\n",
            "Australia Australia PROPN\n",
            ". . PUNCT\n",
            "Kohli Kohli PROPN\n",
            "won win VERB\n",
            "the the DET\n",
            "man man NOUN\n",
            "of of ADP\n",
            "match match NOUN\n"
          ]
        }
      ]
    },
    {
      "cell_type": "markdown",
      "source": [
        "## Web scraping using BeautifulSoup"
      ],
      "metadata": {
        "id": "48NnKYrqAWoW"
      }
    },
    {
      "cell_type": "code",
      "source": [
        "import bs4\n",
        "import requests"
      ],
      "metadata": {
        "id": "7cHw5zVrAZeb"
      },
      "execution_count": 88,
      "outputs": []
    },
    {
      "cell_type": "code",
      "source": [
        "url = 'https://inshorts.com/en/read'\n",
        "page = requests.get(url)"
      ],
      "metadata": {
        "id": "Ir7wK4tZAa6U"
      },
      "execution_count": 89,
      "outputs": []
    },
    {
      "cell_type": "code",
      "source": [
        "page_content = page.text\n",
        "type(page_content), len(page_content)"
      ],
      "metadata": {
        "colab": {
          "base_uri": "https://localhost:8080/"
        },
        "id": "TYol-Fw7BeRx",
        "outputId": "2b7fdc70-3a29-443e-c313-887ed4a4c7c8"
      },
      "execution_count": 90,
      "outputs": [
        {
          "output_type": "execute_result",
          "data": {
            "text/plain": [
              "(str, 92074)"
            ]
          },
          "metadata": {},
          "execution_count": 90
        }
      ]
    },
    {
      "cell_type": "code",
      "source": [
        "soup = bs4.BeautifulSoup(page_content)"
      ],
      "metadata": {
        "id": "U2Wg0bnjCQbf"
      },
      "execution_count": 91,
      "outputs": []
    },
    {
      "cell_type": "code",
      "source": [
        "title_tags = soup.find_all('span', attrs={'itemprop': 'headline'})\n",
        "for title_tag in title_tags:\n",
        "  print(title_tag.string)"
      ],
      "metadata": {
        "colab": {
          "base_uri": "https://localhost:8080/"
        },
        "id": "tKuT4PxUCUv9",
        "outputId": "aeeea2fd-cbac-46e8-f5ac-9e5154aa444c"
      },
      "execution_count": 92,
      "outputs": [
        {
          "output_type": "stream",
          "name": "stdout",
          "text": [
            "Yashvardhan Dalal smashes 428* in Col CK Nayudu Trophy match, creates history\n",
            "Actor Delhi Ganesh, who appeared in over 400 films, passes away at 80 in Chennai\n",
            "Herbalife celebrates 25 years of empowering a healthy lifestyle in India\n",
            "Donald Trump wins all 7 swing states      \n",
            "ICC cancels November 11 event for Champions Trophy amid scheduling dispute: Report\n"
          ]
        }
      ]
    }
  ]
}